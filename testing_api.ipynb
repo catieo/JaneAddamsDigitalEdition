{
 "cells": [
  {
   "cell_type": "code",
   "execution_count": 1,
   "metadata": {
    "collapsed": true
   },
   "outputs": [],
   "source": [
    "import json \n",
    "import requests"
   ]
  },
  {
   "cell_type": "code",
   "execution_count": 2,
   "metadata": {
    "collapsed": true
   },
   "outputs": [],
   "source": [
    "baseurl = \"https://digital.janeaddams.ramapo.edu/api/items\"\n",
    "url_params = {\"key\" : \"ec24a147347176b9f82793ac2d9ace2a9f415bcb\", \"item_type\" : 1} #item-type integer id in sql file is 1"
   ]
  },
  {
   "cell_type": "code",
   "execution_count": 3,
   "metadata": {
    "collapsed": true
   },
   "outputs": [],
   "source": [
    "response = requests.get(baseurl, url_params)"
   ]
  },
  {
   "cell_type": "code",
   "execution_count": 4,
   "metadata": {
    "collapsed": true,
    "scrolled": true
   },
   "outputs": [],
   "source": [
    "items = json.loads(response.text)"
   ]
  },
  {
   "cell_type": "code",
   "execution_count": 6,
   "metadata": {},
   "outputs": [
    {
     "data": {
      "text/plain": [
       "50"
      ]
     },
     "execution_count": 6,
     "metadata": {},
     "output_type": "execute_result"
    }
   ],
   "source": [
    "len(items)"
   ]
  },
  {
   "cell_type": "code",
   "execution_count": 6,
   "metadata": {
    "collapsed": true
   },
   "outputs": [],
   "source": [
    "test = items[:10]\n",
    "text_list = []\n",
    "for item in test: \n",
    "    for elem in item[\"element_texts\"]:\n",
    "        if elem[\"element\"][\"name\"] == \"Text\":\n",
    "            text_list.append(elem[\"text\"])\n",
    "    "
   ]
  },
  {
   "cell_type": "code",
   "execution_count": 8,
   "metadata": {},
   "outputs": [
    {
     "data": {
      "text/plain": [
       "['<div style=\"text-align: center;\">EFFECT OF FAMILIARITY.<br />BY JANE ADDAMS.<br /><br /></div>\\r\\n<p>It is always hard really to see a familiar thing, and it is quite possible to go through life actually blind to our immediate surroundings because we have always seen them. A scientist would say that the objects of attention grow so familiar in consciousness that no reaction is produced. We constantly resent this dead level of familiarity, although we are unable to break through it, and we half suspect that we are missing the essence of life. As a result, we are always grateful to the artist when he shows us the beauty we cannot find for ourselves, to the dramatist who isolates everyday episodes, and makes them new and interesting, to the novelist who shows us our dull companions in an interesting light.<br /><br /> Because we are familiar with the exterior of huge factories we are content to walk by them every day without the remotest notion of the life that goes on within them, of the complicated automatic machines, which are the crown of a century of invention. We see streams of laborers filling the streets night and morning, and scarcely observe that in this stream the number of young women steadily increases and that the number of children fluctuates. Our lack of perception blurs it all. We buy the products as we may desire them, totally unconscious of the struggles of the inventor, of the dreams of the artist which the products may embody, and only a few purchasers inquire whether cheapness has been secured through an increase of speed which has put an unwarranted strain upon the nervous system of the young girls, or whether the worker has contracted disease which might have been avoided. <br /><br /> It is remarkable that this apathy should exist in America where industrial development has been so large a share of our industrial life, and where industry has called to its aid not only science and invention, but the service of original and vigorous minds. To remain ignorant of American industrial development, and the human interests involved, is to miss much of the significance and value of contemporary life. -- Selected.</p>',\n",
       " '<p style=\"text-align: center;\">ELECTIVE OR APPOINTIVE SCHOOL BOARD.</p>\\r\\n<p style=\"text-align: center;\">BY JANE ADDAMS</p>\\r\\n<p>There is no doubt that some cities in the United States which have elective school boards are regretting it, and are ready to go back to the appointive system, and also that some of the cities that have appointive boards are clamoring for an elective system.</p>\\r\\n<p>Many years ago I traveled in Spain, and I was told when I entered the country that if you went by water you always wished you had gone by rail; but if you ventured to go by rail you regretted throughout the journey you hadn\\'t gone by water. But, after all, that was a mere choice of method, while here we have a choice of method involving something else. We have here one method which may or may not work well, but one in which is, nevertheless, more essentially in line with democratic institutions, more representative of the thing which we in America are all striving to get, than the other method is. It seems to me there can be little doubt that the elective board is the method which gives to the people of the city the largest chance to discuss educational measures and to feel themselves more in sympathy with their own popular school system than the appointive board ever can. After all, the mass of the people in any quarter of the city, or any part of the country, would always rather vote for principles than for men. Clever politicians recognize this desire on the part of the voter, and they can only fool them by making them believe they are standing for principles. You never can get pure principles; they must always be illustrated and attached to daily life. The thing which interests people most, and is always most naturally attached to their daily experience and to the lives of their children, is the unending problem of education.</p>\\r\\n<p>You can\\'t secure an increase in public revenue unless you have an enormous amount of public feeling and public enthusiasm.</p>\\r\\n<p>The public school system of America is ordinarily supposed to have started about 1837, it was the beginning of that which we now call the public school system. That date is the date of the greatest activity of Horace Mann, the great educator who went up and down the country and convinced the people into the belief that nothing was too good for the education of their children, no matter how much it cost; that a man would better put less money in a house and lot and put more money into the education of his child; that a man would better not have a piano in his house, if he could not afford the personal ownership of that piano and at the same time support a fine school for the education of his sons and daughters.</p>\\r\\n<p>Men will not be taxed for the money to run the sort of school that we ought to have unless they are enthusiastic about the schools. A mere handful of men may think that we ought to have manual training in the schools, or that we ought not to have manual training; the board and the superintendents may discuss this matter and present their carefully expressed opinions to a committee, but the people themselves will not thereby have investigated it, and will have no enthusiasm for it. The whole question of manual training in the schools should be talked up and down the city, talked about as men talk when running for office, as they present a political platform, pro and con, for and against manual training. The kindergartens we have in the public schools of Chicago, 125, in contradistinction to the 800 we ought to have, were retained not because the board of education thought [page 2] they could afford them--quite the reverse; but because the popular clamor of the people demanded their retention and signified their willingness to pay for them. In the long run people do care for the education of their children more than they care for anything else. Over half of the foreigners which I know are people who have come to America because they wanted to give their children a better chance. They want \"the young ones to have what they could not get over there.\" One hears that every day, and I think the teacher who knows the foreign citizen will agree with me. They themselves haven\\'t had a chance for the education which is given to their children in the public schools. And, therefore, it is not altogether a question as to whether the elective board has worked well in this city or that city. We cannot consider that alone. We must also consider the principle upon which it is based, although I am sure that I cannot be disputed in this statement, that in those cities in which the election of the members of the board of education has been made a special election separate from all the other candidates on the \"blanket ballot\" it has never failed to be satisfactory. In those cities the parents of the children are allowed to have an intelligent presentation of the issue at stake, and a reasonable use of the school houses in which such a nationality [centers].</p>\\r\\n<p>The method of an elective board has not worked very well in those cities where the election has been turned over as merely a part of the political machinery, to be manipulated and taken care of by the ward heelers, as they take care of the election of a garbage inspector. Of course it has gone badly then, but never where it has been regarded as a great education campaign with candidates who represent educational principles.--Address in Chicago.</p>',\n",
       " '<div style=\"text-align: center;\">Hull-House</div>\\r\\n<div style=\"text-align: center;\">800 SOUTH HALSTED STREET</div>\\r\\n<div style=\"text-align: center;\">CHICAGO</div>\\r\\n<p style=\"text-align: right;\">January 31, 1914.</p>\\r\\n<p>My dear Mr. Breasted,</p>\\r\\n<p>I am venturing to send you a copy of my article in the February Atlantic, hoping you will be interested in it. I am sure you know how many people who travel in Egypt feel deeply indebted to you for your wonderful book. <span style=\"text-decoration: line-through;\">for which</span> &lt;May&gt; I&nbsp;<span style=\"text-decoration: line-through;\">might</span> take this opportunity of expressing my gratitude and admiration &lt;for it.&gt;</p>\\r\\n<p style=\"text-align: right;\">Very sincerely yours,</p>\\r\\n<p style=\"text-align: right;\">Jane Addams.</p>\\r\\n<div>Professor James Henry Breasted,</div>\\r\\n<div>The University of Chicago.</div>',\n",
       " 'THE DELANO <br />\\r\\n<div style=\"text-align: right;\">BURLINGTON, IOWA Jany 10, 1901</div>\\r\\n<br />My dear Mr Ely <br /><br />I made [an] attempt to outline the chapters of the book and send it to you at the date you suggested, but the outcome was so unsatisfactory and meager that I gave it up. I am giving a course of lectures here but am so busy getting ready for them, that I have no time for writing as I had hoped.<br /><br /> I consider myself definitely pledged to your series and will hope to work out the \"contents\" on time. Have you seen Stanton Coit\\'s \"Ethical democracy\" there are some fine \"Examples\" in it. <br /><br />With cordial regards to Mrs Ely and yourself I am faithfully yours <br />\\r\\n<div style=\"text-align: right;\">Jane Addams</div>',\n",
       " 'HULL-HOUSE<br /> 335 SOUTH HALSTED STREET <br />CHICAGO <br />\\r\\n<div style=\"text-align: right;\">Jany 10th\" 1901</div>\\r\\n<br />My dear Alice<br /><br /> I hadn\\'t read [illegible title] before I sent it. I simply assumed that you might be interested in Mr White\\'s book because you knew him at Hull-House and because he was a Kansas fellow. I have read the book since and while it is disagreeable, it is certainly clever and puts forth an aspect of family influence and affection which it [does?] we are good to see more clearly. <br /><br />I hadn\\'t thought of course of Marcet\\'s reading it. I might easily send you many books that would be too mature for her. <br /><br />Sarah refused to visit \"Sadie\" who gave up her school at [Wausau] because she had this better offer at a [Sec\\'y] in Oxford. I have just come back from lecturing &amp; haven\\'t [time?] for longer letter. <br /><br />Always your loving sister --\\r\\n<div style=\"text-align: right;\">Jane Addams</div>',\n",
       " '<p style=\"text-align: center;\">University of Wisconsin<br /> Madison, Wis.</p>\\r\\n<p>School of Economics <br />Political Science and History<br />Richard T. Ely, Director</p>\\r\\n<div style=\"text-align: right;\">Madison, Wis. Jan. 1901.</div>\\r\\n<br />Miss Jane Addams, <br />Hull-House, <br />335 S. Halsted St., <br />Chicago, Ill. <br /><br />My Dear Miss Addams; <br /><br />I am glad to hear from you. It is surprising that you are able to accomplish so much. I do not at all wonder that you find it hard to write your book. I am so confident, however, that your book is going to be helpful but I hope you will steal the time from other things, important as these other things are.<br /><br /> I have not read Stanton Coit\\'s Ethical Democracy of which you speak. I have heard about it, and what you say determines me to improve the first opportunity to read it. <br /><br />Mrs. Ely still has nervous prostration, but I hope in a few days to be able to take her again to a sanitarium, where I hope rest and quiet will completely restore her health. She made a mistake before in returning home too soon. We both thought she was well enough to warrant it, although the physicians said it was unwise. <br /><br />Faithfully yours, <br /><br />P. S. Can you not, without going into details and mentioning chapters give me ten or a dozen lines indicative of the general character of [page 2] your book. The policy of the Macmillans is to announce things somewhat in advance and to prepare the public for them. I believe it is a good policy.',\n",
       " 'HULL-HOUSE <br />335 South Halsted Street <br />CHICAGO <br /><br />My dear Alice <br /><br />There has been some delay in getting a copy of my guardian papers, which Mr [Faville] said were necessary. Mr Clark of the Cook Co Probate Court was evidently overwhelmed with business. However they are off at last and I hope for no more delays. We are expecting a visit from John Linn, that may expedite his signing the deed. <br /><br />Yes, indeed, the [slippers] [page 2] came and I am most grateful for them. The Christmas season at H.H. gets pretty intense, so many of the residents go home so that those who are left have little time for visiting. With love to Marcet always your loving sister. Jane Addams <br /><br />Jan\\'y 14\"—1901 <br /><br />P.S. Please give Marcet my thanks for the match scratcher.',\n",
       " 'HULL-HOUSE <br />335 SOUTH HALSTED STREET <br />CHICAGO <br /><br />My dear Mrs Sax <br /><br />The New York address is J. Weintraub 78 Norfolk St. <br /><br />Bet Broome &amp; Delancey Sts.--the place is a little difficult to find but I am sure that my friend Miss Wald whose lives nearby would be charmed to help you find it. She is in the Nurses Settlement 265 Henry St. My Mexican vase is much admired and all [page 2] the residents wish to go to lecture in Iowa [although] I tell them there is but one Mrs Sax there. <br /><br />Hoping to some time have the pleasure of seeing you at Hull-House and thanking you for all your kindness to me. I am faithfully yours <br /><br />\\r\\n<div style=\"text-align: right;\">Jane Addams</div>\\r\\n<br />Jan\\'y 14\" 1901',\n",
       " 'HULL-HOUSE <br />335 SOUTH HALSTED STREET <br />CHICAGO <br /><br />My dear Mrs Blaine <br /><br />I quite forgot until you telephoned yesterday that I had failed to send you the New York lecture. I am very much chagrined that I should have been so careless. I am afraid that you do not need them now. <br />\\r\\n<div style=\"text-align: center;\">Faithfully yours</div>\\r\\n<div style=\"text-align: right;\">Jane Addams</div>\\r\\nJany 17\" - 1901',\n",
       " '<div style=\"text-align: center;\">REFORM CLUB.</div>\\r\\n<div style=\"text-align: center;\">COMMITTEE ON CITY AFFAIRS.</div>\\r\\n<div style=\"text-align: center;\">52 WILLIAM STREET, NEW YORK.</div>\\r\\n<p style=\"text-align: right;\">Dec. 11th, 1900.</p>\\r\\nMiss Jane Addams, <br />335 South Halsted Street, <br />Chicago, Illinois.\\r\\n<p>My Dear Miss Addams: --</p>\\r\\n<p>Sincerely trust you will pardon my delay in replying to your favor of Dec. 2nd, but only this morning I was able to find time and opportunity to see a gentleman upon whose judgement I have implicit reliance. He assures me that Mr. Richard T. Fox is thoroughly capable and would make you a very good report and thinks you would be well satisfied with his work. However, he says there is another man at present connected with the Department of Street Cleaning who would be better. This gentleman is Mr. Charles A. Meade, 19 Park Row. Each of these gentlemen is young, energetic, well posted and thoroughly capable of applying their knowledge to new considerations and problems. Mr. Meade is probably more familiar than any other person in the United States with the question of final disposition, and has a thorough knowledge of every other department as well.</p>\\r\\n<p>I do not wish to suggest that you change your mind regarding Mr. Fox but simply state what I have heard from a thoroughly reliable source, and in case you do decide upon Mr. Meade am positive that he will do an excellent piece of work for you, as also will Mr. Fox.&nbsp;</p>\\r\\n<p style=\"text-align: right;\">Sincerely, Milo R Maltbie [signed]<br />Secretary.</p>']"
      ]
     },
     "execution_count": 8,
     "metadata": {},
     "output_type": "execute_result"
    }
   ],
   "source": [
    "text_list"
   ]
  },
  {
   "cell_type": "code",
   "execution_count": null,
   "metadata": {
    "collapsed": true
   },
   "outputs": [],
   "source": []
  }
 ],
 "metadata": {
  "kernelspec": {
   "display_name": "Python 3",
   "language": "python",
   "name": "python3"
  },
  "language_info": {
   "codemirror_mode": {
    "name": "ipython",
    "version": 3
   },
   "file_extension": ".py",
   "mimetype": "text/x-python",
   "name": "python",
   "nbconvert_exporter": "python",
   "pygments_lexer": "ipython3",
   "version": "3.6.1"
  }
 },
 "nbformat": 4,
 "nbformat_minor": 2
}
