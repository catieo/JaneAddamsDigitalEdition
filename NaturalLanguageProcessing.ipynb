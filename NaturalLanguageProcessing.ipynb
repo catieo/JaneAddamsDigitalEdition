{
 "cells": [
  {
   "cell_type": "code",
   "execution_count": 1,
   "metadata": {
    "collapsed": true
   },
   "outputs": [],
   "source": [
    "import json \n",
    "import requests\n",
    "import re\n",
    "\n",
    "from collections import Counter\n",
    "from spacy.lang.en.stop_words import STOP_WORDS"
   ]
  },
  {
   "cell_type": "code",
   "execution_count": 2,
   "metadata": {
    "collapsed": true
   },
   "outputs": [],
   "source": [
    "import pandas as pd \n",
    "\n",
    "import seaborn as sns \n",
    "import spacy\n",
    "import matplotlib.pyplot as plt"
   ]
  },
  {
   "cell_type": "code",
   "execution_count": 3,
   "metadata": {
    "collapsed": true
   },
   "outputs": [],
   "source": [
    "import nltk"
   ]
  },
  {
   "cell_type": "code",
   "execution_count": 4,
   "metadata": {
    "collapsed": true
   },
   "outputs": [],
   "source": [
    "# baseurl = \"https://digital.janeaddams.ramapo.edu/api/items\"\n",
    "# url_params = {\"key\" : \"ec24a147347176b9f82793ac2d9ace2a9f415bcb\", \"item_type\" : 1, \"page\" : 0} \n",
    "# #item-type integer id in sql file is 1\n",
    "# #jk you can actually just enter the text for item_type like \"Event\" \n",
    "# #or call resources on api "
   ]
  },
  {
   "cell_type": "code",
   "execution_count": 20,
   "metadata": {
    "collapsed": true
   },
   "outputs": [],
   "source": [
    "# not running this one rn \n",
    "# #there are 15487 \"Items\" total - found from SQL file\n",
    "# for i in range(0, 5):  \n",
    "#     url_params[\"page\"] = i \n",
    "#     response = requests.get(baseurl, url_params)\n",
    "#     items.extend(json.loads(response.text))"
   ]
  },
  {
   "cell_type": "markdown",
   "metadata": {},
   "source": [
    "Each item will be represented by a dictionary which we can then easily load into a df where the keys are the column names. id, text, date, tag, creator, title "
   ]
  },
  {
   "cell_type": "code",
   "execution_count": 30,
   "metadata": {
    "collapsed": true
   },
   "outputs": [],
   "source": [
    "item_list = [] # a list of the dictionary objects "
   ]
  },
  {
   "cell_type": "code",
   "execution_count": 36,
   "metadata": {
    "scrolled": false
   },
   "outputs": [],
   "source": [
    "with open(\"cache_texts.json\") as json_file:\n",
    "    data = json.load(json_file)\n",
    "    for page in data: \n",
    "        for item in data[page]:\n",
    "            new_item_dict = {\"id\" : item[\"id\"], \"date\" : [], \"creator\" : [], \"type\": [], \"tags\": []}\n",
    "            for x in item[\"element_texts\"]:\n",
    "                if x[\"element\"][\"name\"] == \"Text\":\n",
    "                    new_item_dict[\"text\"] = x[\"text\"]\n",
    "                if x[\"element\"][\"name\"] == \"Date\":\n",
    "                    new_item_dict[\"date\"].append(x[\"text\"])\n",
    "                if x[\"element\"][\"name\"] == \"Creator\":\n",
    "                    new_item_dict[\"creator\"].append(x[\"text\"])\n",
    "                if x[\"element\"][\"name\"] == \"Title\":\n",
    "                    new_item_dict[\"title\"] = x[\"text\"]\n",
    "                if x[\"element\"][\"name\"] == \"Type\":\n",
    "                    new_item_dict[\"type\"].append(x[\"text\"])\n",
    "            for x in item[\"tags\"]:\n",
    "                new_item_dict[\"tags\"].append(x[\"name\"])\n",
    "            item_list.append(new_item_dict)"
   ]
  },
  {
   "cell_type": "code",
   "execution_count": 74,
   "metadata": {
    "scrolled": false
   },
   "outputs": [
    {
     "data": {
      "text/html": [
       "<div>\n",
       "<style scoped>\n",
       "    .dataframe tbody tr th:only-of-type {\n",
       "        vertical-align: middle;\n",
       "    }\n",
       "\n",
       "    .dataframe tbody tr th {\n",
       "        vertical-align: top;\n",
       "    }\n",
       "\n",
       "    .dataframe thead th {\n",
       "        text-align: right;\n",
       "    }\n",
       "</style>\n",
       "<table border=\"1\" class=\"dataframe\">\n",
       "  <thead>\n",
       "    <tr style=\"text-align: right;\">\n",
       "      <th></th>\n",
       "      <th>creator</th>\n",
       "      <th>date</th>\n",
       "      <th>id</th>\n",
       "      <th>tags</th>\n",
       "      <th>text</th>\n",
       "      <th>title</th>\n",
       "      <th>type</th>\n",
       "    </tr>\n",
       "  </thead>\n",
       "  <tbody>\n",
       "    <tr>\n",
       "      <th>0</th>\n",
       "      <td>[Addams, Jane]</td>\n",
       "      <td>[1907-09-05]</td>\n",
       "      <td>17</td>\n",
       "      <td>[Industry, Labor, Writings]</td>\n",
       "      <td>&lt;div style=\"text-align: center;\"&gt;EFFECT OF FAM...</td>\n",
       "      <td>Effect of Familiarity, September 5, 1907</td>\n",
       "      <td>[article]</td>\n",
       "    </tr>\n",
       "    <tr>\n",
       "      <th>1</th>\n",
       "      <td>[Addams, Jane]</td>\n",
       "      <td>[1906-02-01]</td>\n",
       "      <td>18</td>\n",
       "      <td>[Education, Immigrants, Lectures]</td>\n",
       "      <td>&lt;p style=\"text-align: center;\"&gt;ELECTIVE OR APP...</td>\n",
       "      <td>Elective or Appointive School Board, February ...</td>\n",
       "      <td>[speech]</td>\n",
       "    </tr>\n",
       "    <tr>\n",
       "      <th>2</th>\n",
       "      <td>[Addams, Jane]</td>\n",
       "      <td>[1914-01-31]</td>\n",
       "      <td>19</td>\n",
       "      <td>[Travels, Writings]</td>\n",
       "      <td>&lt;div style=\"text-align: center;\"&gt;Hull-House&lt;/d...</td>\n",
       "      <td>Jane Addams to James Henry Breasted, January 3...</td>\n",
       "      <td>[letter]</td>\n",
       "    </tr>\n",
       "    <tr>\n",
       "      <th>3</th>\n",
       "      <td>[Addams, Jane]</td>\n",
       "      <td>[1901-01-10]</td>\n",
       "      <td>48</td>\n",
       "      <td>[Writing]</td>\n",
       "      <td>THE DELANO &lt;br /&gt;\\r\\n&lt;div style=\"text-align: r...</td>\n",
       "      <td>Jane Addams to Richard T. Ely, January 10, 1901</td>\n",
       "      <td>[letter]</td>\n",
       "    </tr>\n",
       "    <tr>\n",
       "      <th>4</th>\n",
       "      <td>[Addams, Jane]</td>\n",
       "      <td>[1901-01-10]</td>\n",
       "      <td>49</td>\n",
       "      <td>[Books, Family]</td>\n",
       "      <td>HULL-HOUSE&lt;br /&gt; 335 SOUTH HALSTED STREET &lt;br ...</td>\n",
       "      <td>Jane Addams to Sarah Alice Addams Haldeman, Ja...</td>\n",
       "      <td>[letter]</td>\n",
       "    </tr>\n",
       "  </tbody>\n",
       "</table>\n",
       "</div>"
      ],
      "text/plain": [
       "          creator          date  id                               tags  \\\n",
       "0  [Addams, Jane]  [1907-09-05]  17        [Industry, Labor, Writings]   \n",
       "1  [Addams, Jane]  [1906-02-01]  18  [Education, Immigrants, Lectures]   \n",
       "2  [Addams, Jane]  [1914-01-31]  19                [Travels, Writings]   \n",
       "3  [Addams, Jane]  [1901-01-10]  48                          [Writing]   \n",
       "4  [Addams, Jane]  [1901-01-10]  49                    [Books, Family]   \n",
       "\n",
       "                                                text  \\\n",
       "0  <div style=\"text-align: center;\">EFFECT OF FAM...   \n",
       "1  <p style=\"text-align: center;\">ELECTIVE OR APP...   \n",
       "2  <div style=\"text-align: center;\">Hull-House</d...   \n",
       "3  THE DELANO <br />\\r\\n<div style=\"text-align: r...   \n",
       "4  HULL-HOUSE<br /> 335 SOUTH HALSTED STREET <br ...   \n",
       "\n",
       "                                               title       type  \n",
       "0           Effect of Familiarity, September 5, 1907  [article]  \n",
       "1  Elective or Appointive School Board, February ...   [speech]  \n",
       "2  Jane Addams to James Henry Breasted, January 3...   [letter]  \n",
       "3    Jane Addams to Richard T. Ely, January 10, 1901   [letter]  \n",
       "4  Jane Addams to Sarah Alice Addams Haldeman, Ja...   [letter]  "
      ]
     },
     "execution_count": 74,
     "metadata": {},
     "output_type": "execute_result"
    }
   ],
   "source": [
    "item_df = pd.DataFrame(item_list)\n",
    "item_df.head()"
   ]
  },
  {
   "cell_type": "code",
   "execution_count": 26,
   "metadata": {
    "collapsed": true
   },
   "outputs": [],
   "source": [
    "# x = text_list[0]"
   ]
  },
  {
   "cell_type": "code",
   "execution_count": 57,
   "metadata": {
    "collapsed": true
   },
   "outputs": [],
   "source": [
    "# cleaning function \n",
    "# removes HTML from transcription \n",
    "# replace <br> with newline characters  \n",
    "# replace others with spaces to maintain word separation\n",
    "# normalizes by making all lowercase\n",
    "# removes special characters and punctuation\n",
    "# removes digits\n",
    "def clean_text(text):\n",
    "    r = '<br />'\n",
    "    r1 = '<.*?>'\n",
    "    r2 = '\\r\\n'\n",
    "    r3 = '[^\\w\\s]'\n",
    "    r4 = '\\d'\n",
    "    text = re.sub(r, ' ', text)\n",
    "    text = re.sub(r1, '', text)\n",
    "    text = re.sub(r2, ' ', text)\n",
    "    text = text.lower()\n",
    "    text = re.sub(r3, '', text)\n",
    "    text = re.sub(r4, '', text)\n",
    "    return text "
   ]
  },
  {
   "cell_type": "code",
   "execution_count": 58,
   "metadata": {},
   "outputs": [],
   "source": [
    "# # test clean text function\n",
    "# x = clean_text(x)\n",
    "# x"
   ]
  },
  {
   "cell_type": "code",
   "execution_count": 59,
   "metadata": {
    "collapsed": true
   },
   "outputs": [],
   "source": [
    "# next step would be to split into words \n",
    "def split_words(text):\n",
    "    return text.split() "
   ]
  },
  {
   "cell_type": "code",
   "execution_count": 60,
   "metadata": {},
   "outputs": [],
   "source": [
    "# # test split_words function\n",
    "# x = split_words(x)\n",
    "# x"
   ]
  },
  {
   "cell_type": "code",
   "execution_count": 61,
   "metadata": {
    "collapsed": true
   },
   "outputs": [],
   "source": [
    "# function to remove stop words from a piece of text \n",
    "# uses the stop words list from spacy \n",
    "# input must be a list of words \n",
    "def remove_stop_words(text):\n",
    "    text_words_nostop = []\n",
    "    for word in text:\n",
    "        if word not in STOP_WORDS and word != \"nbsp\":\n",
    "            text_words_nostop.append(word)\n",
    "    return text_words_nostop"
   ]
  },
  {
   "cell_type": "code",
   "execution_count": 62,
   "metadata": {},
   "outputs": [],
   "source": [
    "# # test remove_stop_words function \n",
    "# x = remove_stop_words(x)\n",
    "# x"
   ]
  },
  {
   "cell_type": "code",
   "execution_count": 63,
   "metadata": {
    "collapsed": true
   },
   "outputs": [],
   "source": [
    "# after inspecting the text, there are lots of 1 and 2 letter words that are abbreviations \n",
    "# this is a function to remove those \n",
    "def remove_short_words(text):\n",
    "    text_no_short = []\n",
    "    for word in text:\n",
    "        if not(len(word) == 1 or len(word) == 2):\n",
    "            text_no_short.append(word)\n",
    "    return text_no_short"
   ]
  },
  {
   "cell_type": "code",
   "execution_count": 64,
   "metadata": {},
   "outputs": [],
   "source": [
    "# # test remove_short_words function\n",
    "# x = remove_short_words(x)\n",
    "# x"
   ]
  },
  {
   "cell_type": "code",
   "execution_count": 65,
   "metadata": {
    "collapsed": true
   },
   "outputs": [],
   "source": [
    "# most common words function \n",
    "# will return a counter object of 10 most common words \n",
    "# not necessarily part of the pipeline always, more helpful for individual pieces of text \n",
    "def most_common(text):\n",
    "    return Counter(text).most_common(10)"
   ]
  },
  {
   "cell_type": "code",
   "execution_count": 66,
   "metadata": {},
   "outputs": [],
   "source": [
    "# # text most_common\n",
    "# most_common(x)"
   ]
  },
  {
   "cell_type": "code",
   "execution_count": 37,
   "metadata": {
    "collapsed": true
   },
   "outputs": [],
   "source": [
    "# all_text = []\n",
    "# for text in text_list:\n",
    "#     text = clean_text(text)\n",
    "#     text = split_words(text)\n",
    "#     text = remove_stop_words(text)\n",
    "#     text = remove_short_words(text)\n",
    "#     all_text.extend(text)"
   ]
  },
  {
   "cell_type": "code",
   "execution_count": 38,
   "metadata": {
    "scrolled": false
   },
   "outputs": [
    {
     "data": {
      "text/plain": [
       "[('chicago', 323),\n",
       " ('addams', 277),\n",
       " ('miss', 237),\n",
       " ('dear', 225),\n",
       " ('street', 200),\n",
       " ('page', 198),\n",
       " ('jane', 188),\n",
       " ('hullhouse', 171),\n",
       " ('halsted', 141),\n",
       " ('mrs', 137)]"
      ]
     },
     "execution_count": 38,
     "metadata": {},
     "output_type": "execute_result"
    }
   ],
   "source": [
    "# most_common(all_text)"
   ]
  },
  {
   "cell_type": "code",
   "execution_count": 75,
   "metadata": {
    "scrolled": true
   },
   "outputs": [
    {
     "data": {
      "text/html": [
       "<div>\n",
       "<style scoped>\n",
       "    .dataframe tbody tr th:only-of-type {\n",
       "        vertical-align: middle;\n",
       "    }\n",
       "\n",
       "    .dataframe tbody tr th {\n",
       "        vertical-align: top;\n",
       "    }\n",
       "\n",
       "    .dataframe thead th {\n",
       "        text-align: right;\n",
       "    }\n",
       "</style>\n",
       "<table border=\"1\" class=\"dataframe\">\n",
       "  <thead>\n",
       "    <tr style=\"text-align: right;\">\n",
       "      <th></th>\n",
       "      <th>creator</th>\n",
       "      <th>date</th>\n",
       "      <th>id</th>\n",
       "      <th>tags</th>\n",
       "      <th>text</th>\n",
       "      <th>title</th>\n",
       "      <th>type</th>\n",
       "    </tr>\n",
       "  </thead>\n",
       "  <tbody>\n",
       "    <tr>\n",
       "      <th>0</th>\n",
       "      <td>[Addams, Jane]</td>\n",
       "      <td>[1907-09-05]</td>\n",
       "      <td>17</td>\n",
       "      <td>[Industry, Labor, Writings]</td>\n",
       "      <td>&lt;div style=\"text-align: center;\"&gt;EFFECT OF FAM...</td>\n",
       "      <td>Effect of Familiarity, September 5, 1907</td>\n",
       "      <td>[article]</td>\n",
       "    </tr>\n",
       "    <tr>\n",
       "      <th>1</th>\n",
       "      <td>[Addams, Jane]</td>\n",
       "      <td>[1906-02-01]</td>\n",
       "      <td>18</td>\n",
       "      <td>[Education, Immigrants, Lectures]</td>\n",
       "      <td>&lt;p style=\"text-align: center;\"&gt;ELECTIVE OR APP...</td>\n",
       "      <td>Elective or Appointive School Board, February ...</td>\n",
       "      <td>[speech]</td>\n",
       "    </tr>\n",
       "    <tr>\n",
       "      <th>2</th>\n",
       "      <td>[Addams, Jane]</td>\n",
       "      <td>[1914-01-31]</td>\n",
       "      <td>19</td>\n",
       "      <td>[Travels, Writings]</td>\n",
       "      <td>&lt;div style=\"text-align: center;\"&gt;Hull-House&lt;/d...</td>\n",
       "      <td>Jane Addams to James Henry Breasted, January 3...</td>\n",
       "      <td>[letter]</td>\n",
       "    </tr>\n",
       "    <tr>\n",
       "      <th>3</th>\n",
       "      <td>[Addams, Jane]</td>\n",
       "      <td>[1901-01-10]</td>\n",
       "      <td>48</td>\n",
       "      <td>[Writing]</td>\n",
       "      <td>THE DELANO &lt;br /&gt;\\r\\n&lt;div style=\"text-align: r...</td>\n",
       "      <td>Jane Addams to Richard T. Ely, January 10, 1901</td>\n",
       "      <td>[letter]</td>\n",
       "    </tr>\n",
       "    <tr>\n",
       "      <th>4</th>\n",
       "      <td>[Addams, Jane]</td>\n",
       "      <td>[1901-01-10]</td>\n",
       "      <td>49</td>\n",
       "      <td>[Books, Family]</td>\n",
       "      <td>HULL-HOUSE&lt;br /&gt; 335 SOUTH HALSTED STREET &lt;br ...</td>\n",
       "      <td>Jane Addams to Sarah Alice Addams Haldeman, Ja...</td>\n",
       "      <td>[letter]</td>\n",
       "    </tr>\n",
       "  </tbody>\n",
       "</table>\n",
       "</div>"
      ],
      "text/plain": [
       "          creator          date  id                               tags  \\\n",
       "0  [Addams, Jane]  [1907-09-05]  17        [Industry, Labor, Writings]   \n",
       "1  [Addams, Jane]  [1906-02-01]  18  [Education, Immigrants, Lectures]   \n",
       "2  [Addams, Jane]  [1914-01-31]  19                [Travels, Writings]   \n",
       "3  [Addams, Jane]  [1901-01-10]  48                          [Writing]   \n",
       "4  [Addams, Jane]  [1901-01-10]  49                    [Books, Family]   \n",
       "\n",
       "                                                text  \\\n",
       "0  <div style=\"text-align: center;\">EFFECT OF FAM...   \n",
       "1  <p style=\"text-align: center;\">ELECTIVE OR APP...   \n",
       "2  <div style=\"text-align: center;\">Hull-House</d...   \n",
       "3  THE DELANO <br />\\r\\n<div style=\"text-align: r...   \n",
       "4  HULL-HOUSE<br /> 335 SOUTH HALSTED STREET <br ...   \n",
       "\n",
       "                                               title       type  \n",
       "0           Effect of Familiarity, September 5, 1907  [article]  \n",
       "1  Elective or Appointive School Board, February ...   [speech]  \n",
       "2  Jane Addams to James Henry Breasted, January 3...   [letter]  \n",
       "3    Jane Addams to Richard T. Ely, January 10, 1901   [letter]  \n",
       "4  Jane Addams to Sarah Alice Addams Haldeman, Ja...   [letter]  "
      ]
     },
     "execution_count": 75,
     "metadata": {},
     "output_type": "execute_result"
    }
   ],
   "source": [
    "#back to the df \n",
    "item_df.head()"
   ]
  },
  {
   "cell_type": "code",
   "execution_count": 76,
   "metadata": {
    "scrolled": true
   },
   "outputs": [
    {
     "data": {
      "text/html": [
       "<div>\n",
       "<style scoped>\n",
       "    .dataframe tbody tr th:only-of-type {\n",
       "        vertical-align: middle;\n",
       "    }\n",
       "\n",
       "    .dataframe tbody tr th {\n",
       "        vertical-align: top;\n",
       "    }\n",
       "\n",
       "    .dataframe thead th {\n",
       "        text-align: right;\n",
       "    }\n",
       "</style>\n",
       "<table border=\"1\" class=\"dataframe\">\n",
       "  <thead>\n",
       "    <tr style=\"text-align: right;\">\n",
       "      <th></th>\n",
       "      <th>creator</th>\n",
       "      <th>date</th>\n",
       "      <th>id</th>\n",
       "      <th>tags</th>\n",
       "      <th>text</th>\n",
       "      <th>title</th>\n",
       "      <th>type</th>\n",
       "    </tr>\n",
       "  </thead>\n",
       "  <tbody>\n",
       "    <tr>\n",
       "      <th>0</th>\n",
       "      <td>[Addams, Jane]</td>\n",
       "      <td>[1907-09-05]</td>\n",
       "      <td>17</td>\n",
       "      <td>[Industry, Labor, Writings]</td>\n",
       "      <td>[effect, familiarity, jane, addams, hard, fami...</td>\n",
       "      <td>Effect of Familiarity, September 5, 1907</td>\n",
       "      <td>[article]</td>\n",
       "    </tr>\n",
       "    <tr>\n",
       "      <th>1</th>\n",
       "      <td>[Addams, Jane]</td>\n",
       "      <td>[1906-02-01]</td>\n",
       "      <td>18</td>\n",
       "      <td>[Education, Immigrants, Lectures]</td>\n",
       "      <td>[elective, appointive, school, board, jane, ad...</td>\n",
       "      <td>Elective or Appointive School Board, February ...</td>\n",
       "      <td>[speech]</td>\n",
       "    </tr>\n",
       "    <tr>\n",
       "      <th>2</th>\n",
       "      <td>[Addams, Jane]</td>\n",
       "      <td>[1914-01-31]</td>\n",
       "      <td>19</td>\n",
       "      <td>[Travels, Writings]</td>\n",
       "      <td>[hullhouse, south, halsted, street, chicago, j...</td>\n",
       "      <td>Jane Addams to James Henry Breasted, January 3...</td>\n",
       "      <td>[letter]</td>\n",
       "    </tr>\n",
       "    <tr>\n",
       "      <th>3</th>\n",
       "      <td>[Addams, Jane]</td>\n",
       "      <td>[1901-01-10]</td>\n",
       "      <td>48</td>\n",
       "      <td>[Writing]</td>\n",
       "      <td>[delano, burlington, iowa, jany, dear, ely, at...</td>\n",
       "      <td>Jane Addams to Richard T. Ely, January 10, 1901</td>\n",
       "      <td>[letter]</td>\n",
       "    </tr>\n",
       "    <tr>\n",
       "      <th>4</th>\n",
       "      <td>[Addams, Jane]</td>\n",
       "      <td>[1901-01-10]</td>\n",
       "      <td>49</td>\n",
       "      <td>[Books, Family]</td>\n",
       "      <td>[hullhouse, south, halsted, street, chicago, j...</td>\n",
       "      <td>Jane Addams to Sarah Alice Addams Haldeman, Ja...</td>\n",
       "      <td>[letter]</td>\n",
       "    </tr>\n",
       "  </tbody>\n",
       "</table>\n",
       "</div>"
      ],
      "text/plain": [
       "          creator          date  id                               tags  \\\n",
       "0  [Addams, Jane]  [1907-09-05]  17        [Industry, Labor, Writings]   \n",
       "1  [Addams, Jane]  [1906-02-01]  18  [Education, Immigrants, Lectures]   \n",
       "2  [Addams, Jane]  [1914-01-31]  19                [Travels, Writings]   \n",
       "3  [Addams, Jane]  [1901-01-10]  48                          [Writing]   \n",
       "4  [Addams, Jane]  [1901-01-10]  49                    [Books, Family]   \n",
       "\n",
       "                                                text  \\\n",
       "0  [effect, familiarity, jane, addams, hard, fami...   \n",
       "1  [elective, appointive, school, board, jane, ad...   \n",
       "2  [hullhouse, south, halsted, street, chicago, j...   \n",
       "3  [delano, burlington, iowa, jany, dear, ely, at...   \n",
       "4  [hullhouse, south, halsted, street, chicago, j...   \n",
       "\n",
       "                                               title       type  \n",
       "0           Effect of Familiarity, September 5, 1907  [article]  \n",
       "1  Elective or Appointive School Board, February ...   [speech]  \n",
       "2  Jane Addams to James Henry Breasted, January 3...   [letter]  \n",
       "3    Jane Addams to Richard T. Ely, January 10, 1901   [letter]  \n",
       "4  Jane Addams to Sarah Alice Addams Haldeman, Ja...   [letter]  "
      ]
     },
     "execution_count": 76,
     "metadata": {},
     "output_type": "execute_result"
    }
   ],
   "source": [
    "#clean and replace text column \n",
    "# for text in text_list:\n",
    "#     text = clean_text(text)\n",
    "#     text = split_words(text)\n",
    "#     text = remove_stop_words(text)\n",
    "#     text = remove_short_words(text)\n",
    "#     all_text.extend(text)\n",
    "item_df[\"text\"] = item_df[\"text\"].apply(clean_text)\n",
    "item_df[\"text\"] = item_df[\"text\"].apply(split_words)\n",
    "item_df[\"text\"] = item_df[\"text\"].apply(remove_stop_words)\n",
    "item_df[\"text\"] = item_df[\"text\"].apply(remove_short_words)\n",
    "item_df.head()"
   ]
  },
  {
   "cell_type": "code",
   "execution_count": 80,
   "metadata": {
    "collapsed": true
   },
   "outputs": [],
   "source": [
    "flattened_text_list = []\n",
    "for x in item_df[\"text\"]:\n",
    "    flattened_text_list.extend(x)"
   ]
  },
  {
   "cell_type": "code",
   "execution_count": 81,
   "metadata": {},
   "outputs": [
    {
     "data": {
      "text/plain": [
       "[('chicago', 323),\n",
       " ('addams', 277),\n",
       " ('miss', 237),\n",
       " ('dear', 225),\n",
       " ('street', 200),\n",
       " ('page', 198),\n",
       " ('jane', 188),\n",
       " ('hullhouse', 171),\n",
       " ('halsted', 141),\n",
       " ('mrs', 137)]"
      ]
     },
     "execution_count": 81,
     "metadata": {},
     "output_type": "execute_result"
    }
   ],
   "source": [
    "most_common(flattened_text_list)"
   ]
  },
  {
   "cell_type": "code",
   "execution_count": 83,
   "metadata": {},
   "outputs": [],
   "source": [
    "flattened_creator_list = []\n",
    "for x in item_df[\"creator\"]:\n",
    "    flattened_creator_list.extend(x)\n",
    "creator_series = pd.Series(flattened_creator_list)"
   ]
  },
  {
   "cell_type": "code",
   "execution_count": 84,
   "metadata": {},
   "outputs": [
    {
     "data": {
      "text/plain": [
       "Addams, Jane                      155\n",
       "Ely, Richard T.                    11\n",
       "Jones, Jenkin Lloyd                 5\n",
       "Macmillan Company                   4\n",
       "Harrison, Frederic                  4\n",
       "Ely, Richard T.                     3\n",
       "Riis, Jacob A.                      2\n",
       "Moody, William Vaughn               2\n",
       "Maltbie, Milo Roy                   2\n",
       "Van Dine, Sophia Engel              2\n",
       "Robins, Raymond                     2\n",
       "Yates, Richard                      2\n",
       "Chicago Daily News                  2\n",
       "Lawson, Victor Fremont              2\n",
       "Rowe, Frederick H.                  2\n",
       "Goldman, Emma                       2\n",
       "Jones, Samuel M.                    2\n",
       "Kropotkin, Pyotr Alexeyevich        2\n",
       "James, Edmund J.                    2\n",
       "Addams, Jane                        2\n",
       "Reform Club                         2\n",
       "Adams, Henry Carter                 2\n",
       "Hill, Mary Dorsey Anderson          2\n",
       "Adams, Myron E.                     1\n",
       "Blaine, Anita McCormick             1\n",
       "Stewart, Lettie Cox                 1\n",
       "Hartt, Rollin Lynde                 1\n",
       "University of Chicago Press         1\n",
       "Scudder, Vida D.                    1\n",
       "Howells, John Mead                  1\n",
       "                                 ... \n",
       "Markham, Edwin                      1\n",
       "Starr, Western                      1\n",
       "Warren, Henry                       1\n",
       "Dunne, Edward F.                    1\n",
       "De Forest, Robert W.                1\n",
       "Booth, William S.                   1\n",
       "Beaunisne, Albert G.                1\n",
       "Jones, Samuel Mills                 1\n",
       "Eastman, Mr.                        1\n",
       "Chicago City Homes Association      1\n",
       "Thomas, M. Carey                    1\n",
       "Kent, Elizabeth Thacher             1\n",
       "Deknatel, Frederick H.              1\n",
       "Chicago Boys Club                   1\n",
       "Chicago Boys' Club                  1\n",
       "P. F. Pettibone & Co.               1\n",
       "Murphy, Edgar Gardner               1\n",
       "Adams, Jane                         1\n",
       "Linn, James Weber                   1\n",
       "McCormick, Stanley R.               1\n",
       "Smith, Mary Rozet                   1\n",
       "Chicago Department of Police        1\n",
       "Hamilton, Alice                     1\n",
       "Lincoln, Alice N.                   1\n",
       "Jones, Samuel Milton                1\n",
       "McCormick, Stanley Robert           1\n",
       "Noyes, Frank Brett                  1\n",
       "Addams. Jane                        1\n",
       "Barrett, Thusnelda Peemoller        1\n",
       "Murphy, Anne                        1\n",
       "Length: 73, dtype: int64"
      ]
     },
     "execution_count": 84,
     "metadata": {},
     "output_type": "execute_result"
    }
   ],
   "source": [
    "creator_series.value_counts()"
   ]
  },
  {
   "cell_type": "code",
   "execution_count": 85,
   "metadata": {
    "scrolled": true
   },
   "outputs": [
    {
     "name": "stdout",
     "output_type": "stream",
     "text": [
      "['1902-05-01', '1903-04-30']\n",
      "['1903-09-20', '1904-09-20', '1905-09-20']\n"
     ]
    }
   ],
   "source": [
    "for item in item_df[\"date\"]: \n",
    "    if len(item) > 1: \n",
    "        print(item)"
   ]
  },
  {
   "cell_type": "code",
   "execution_count": 94,
   "metadata": {},
   "outputs": [
    {
     "data": {
      "text/plain": [
       "200"
      ]
     },
     "execution_count": 94,
     "metadata": {},
     "output_type": "execute_result"
    }
   ],
   "source": [
    "len(item_df[\"id\"].unique())"
   ]
  },
  {
   "cell_type": "code",
   "execution_count": 39,
   "metadata": {
    "collapsed": true
   },
   "outputs": [],
   "source": [
    "# i don't know what these are or what to do with them ????? \n",
    "# sorted(all_text, key=len, reverse=True)"
   ]
  },
  {
   "cell_type": "code",
   "execution_count": 40,
   "metadata": {
    "scrolled": true
   },
   "outputs": [
    {
     "data": {
      "text/plain": [
       "life           5\n",
       "industrial     3\n",
       "familiar       3\n",
       "shows          2\n",
       "invention      2\n",
       "interesting    2\n",
       "development    2\n",
       "familiarity    2\n",
       "products       2\n",
       "number         2\n",
       "young          2\n",
       "artist         2\n",
       "avoided        1\n",
       "children       1\n",
       "notion         1\n",
       "exist          1\n",
       "apathy         1\n",
       "cheapness      1\n",
       "companions     1\n",
       "miss           1\n",
       "goes           1\n",
       "increases      1\n",
       "attention      1\n",
       "original       1\n",
       "factories      1\n",
       "stream         1\n",
       "seen           1\n",
       "essence        1\n",
       "share          1\n",
       "desire         1\n",
       "              ..\n",
       "missing        1\n",
       "blind          1\n",
       "selected       1\n",
       "science        1\n",
       "inquire        1\n",
       "produced       1\n",
       "interests      1\n",
       "speed          1\n",
       "actually       1\n",
       "large          1\n",
       "new            1\n",
       "nervous        1\n",
       "streams        1\n",
       "objects        1\n",
       "immediate      1\n",
       "suspect        1\n",
       "makes          1\n",
       "filling        1\n",
       "isolates       1\n",
       "totally        1\n",
       "effect         1\n",
       "human          1\n",
       "light          1\n",
       "girls          1\n",
       "novelist       1\n",
       "resent         1\n",
       "purchasers     1\n",
       "night          1\n",
       "day            1\n",
       "inventor       1\n",
       "Length: 133, dtype: int64"
      ]
     },
     "execution_count": 40,
     "metadata": {},
     "output_type": "execute_result"
    }
   ],
   "source": [
    "pd.Series(x).value_counts()"
   ]
  },
  {
   "cell_type": "code",
   "execution_count": 41,
   "metadata": {
    "scrolled": true
   },
   "outputs": [
    {
     "name": "stderr",
     "output_type": "stream",
     "text": [
      "/anaconda/lib/python3.6/site-packages/seaborn/categorical.py:1428: FutureWarning: remove_na is deprecated and is a private function. Do not use.\n",
      "  stat_data = remove_na(group_data)\n"
     ]
    },
    {
     "data": {
      "image/png": "[encoded data removed]",
      "text/plain": [
       "<matplotlib.figure.Figure at 0x123668c88>"
      ]
     },
     "metadata": {},
     "output_type": "display_data"
    }
   ],
   "source": [
    "plt.figure(figsize=(45,10))\n",
    "sns.countplot(x, order=pd.Series(x).value_counts().index)\n",
    "plt.xticks(rotation=90)\n",
    "plt.show()"
   ]
  },
  {
   "cell_type": "code",
   "execution_count": 42,
   "metadata": {
    "collapsed": true
   },
   "outputs": [],
   "source": [
    "def bigrams(text):\n",
    "    result = list(nltk.ngrams(text, 2))\n",
    "    return result "
   ]
  },
  {
   "cell_type": "code",
   "execution_count": 43,
   "metadata": {
    "collapsed": true
   },
   "outputs": [],
   "source": [
    "x_bigrams = bigrams(x)\n"
   ]
  },
  {
   "cell_type": "code",
   "execution_count": 44,
   "metadata": {},
   "outputs": [
    {
     "data": {
      "text/plain": [
       "(industrial, development)    2\n",
       "(filling, streets)           1\n",
       "(dead, level)                1\n",
       "(life, goes)                 1\n",
       "(vigorous, minds)            1\n",
       "(observe, stream)            1\n",
       "(objects, attention)         1\n",
       "(industrial, life)           1\n",
       "(find, dramatist)            1\n",
       "(episodes, makes)            1\n",
       "(embody, purchasers)         1\n",
       "(exterior, huge)             1\n",
       "(hard, familiar)             1\n",
       "(nervous, system)            1\n",
       "(resent, dead)               1\n",
       "(dreams, artist)             1\n",
       "(notion, life)               1\n",
       "(produced, constantly)       1\n",
       "(everyday, episodes)         1\n",
       "(strain, nervous)            1\n",
       "(invention, streams)         1\n",
       "(familiarity, unable)        1\n",
       "(possible, life)             1\n",
       "(apathy, exist)              1\n",
       "(young, women)               1\n",
       "(industry, called)           1\n",
       "(factories, content)         1\n",
       "(essence, life)              1\n",
       "(machines, crown)            1\n",
       "(dramatist, isolates)        1\n",
       "                            ..\n",
       "(american, industrial)       1\n",
       "(speed, unwarranted)         1\n",
       "(missing, essence)           1\n",
       "(beauty, find)               1\n",
       "(reaction, produced)         1\n",
       "(life, selected)             1\n",
       "(half, suspect)              1\n",
       "(increase, speed)            1\n",
       "(children, fluctuates)       1\n",
       "(service, original)          1\n",
       "(remotest, notion)           1\n",
       "(young, girls)               1\n",
       "(involved, miss)             1\n",
       "(system, young)              1\n",
       "(streets, night)             1\n",
       "(artist, shows)              1\n",
       "(level, familiarity)         1\n",
       "(worker, contracted)         1\n",
       "(science, invention)         1\n",
       "(lack, perception)           1\n",
       "(isolates, everyday)         1\n",
       "(stream, number)             1\n",
       "(consciousness, reaction)    1\n",
       "(life, industry)             1\n",
       "(interesting, light)         1\n",
       "(exist, america)             1\n",
       "(development, human)         1\n",
       "(share, industrial)          1\n",
       "(scientist, objects)         1\n",
       "(blurs, buy)                 1\n",
       "Length: 148, dtype: int64"
      ]
     },
     "execution_count": 44,
     "metadata": {},
     "output_type": "execute_result"
    }
   ],
   "source": [
    "pd.Series(x_bigrams).value_counts()"
   ]
  },
  {
   "cell_type": "code",
   "execution_count": null,
   "metadata": {
    "collapsed": true
   },
   "outputs": [],
   "source": []
  }
 ],
 "metadata": {
  "kernelspec": {
   "display_name": "Python 3",
   "language": "python",
   "name": "python3"
  },
  "language_info": {
   "codemirror_mode": {
    "name": "ipython",
    "version": 3
   },
   "file_extension": ".py",
   "mimetype": "text/x-python",
   "name": "python",
   "nbconvert_exporter": "python",
   "pygments_lexer": "ipython3",
   "version": "3.6.8"
  }
 },
 "nbformat": 4,
 "nbformat_minor": 2
}
