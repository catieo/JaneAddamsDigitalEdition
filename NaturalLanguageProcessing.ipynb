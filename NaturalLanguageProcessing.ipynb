{
 "cells": [
  {
   "cell_type": "code",
   "execution_count": 1,
   "metadata": {
    "collapsed": true
   },
   "outputs": [],
   "source": [
    "import json \n",
    "import requests\n",
    "import re\n",
    "\n",
    "from collections import Counter\n",
    "from spacy.lang.en.stop_words import STOP_WORDS"
   ]
  },
  {
   "cell_type": "code",
   "execution_count": 2,
   "metadata": {
    "collapsed": true
   },
   "outputs": [],
   "source": [
    "import pandas as pd \n",
    "\n",
    "import seaborn as sns \n",
    "import spacy\n",
    "import matplotlib.pyplot as plt"
   ]
  },
  {
   "cell_type": "code",
   "execution_count": 3,
   "metadata": {
    "collapsed": true
   },
   "outputs": [],
   "source": [
    "import nltk"
   ]
  },
  {
   "cell_type": "code",
   "execution_count": 4,
   "metadata": {
    "collapsed": true
   },
   "outputs": [],
   "source": [
    "import plotly\n",
    "plotly.tools.set_credentials_file(username='japprcnj2', api_key='sQkQA7w4dT5EpCdcz0ZG')"
   ]
  },
  {
   "cell_type": "code",
   "execution_count": 5,
   "metadata": {
    "collapsed": true
   },
   "outputs": [],
   "source": [
    "import plotly.plotly as py "
   ]
  },
  {
   "cell_type": "code",
   "execution_count": 6,
   "metadata": {
    "collapsed": true
   },
   "outputs": [],
   "source": [
    "import plotly.graph_objs as go"
   ]
  },
  {
   "cell_type": "markdown",
   "metadata": {},
   "source": [
    "Each item will be represented by a dictionary which we can then easily load into a df where the keys are the column names. id, text, date, tag, creator, title "
   ]
  },
  {
   "cell_type": "code",
   "execution_count": 9,
   "metadata": {
    "collapsed": true
   },
   "outputs": [],
   "source": [
    "item_list = [] # a list of the dictionary objects "
   ]
  },
  {
   "cell_type": "code",
   "execution_count": 10,
   "metadata": {
    "collapsed": true,
    "scrolled": false
   },
   "outputs": [],
   "source": [
    "with open(\"cache_texts.json\") as json_file:\n",
    "    data = json.load(json_file)\n",
    "    for page in data: \n",
    "        for item in data[page]:\n",
    "            new_item_dict = {\"id\" : item[\"id\"], \"type\": [], \"tags\": []}\n",
    "            for x in item[\"element_texts\"]:\n",
    "                if x[\"element\"][\"name\"] == \"Text\":\n",
    "                    new_item_dict[\"text\"] = x[\"text\"]\n",
    "                if x[\"element\"][\"name\"] == \"Date\":\n",
    "                    new_item_dict[\"date\"] = x[\"text\"]\n",
    "                if x[\"element\"][\"name\"] == \"Creator\":\n",
    "                    new_item_dict[\"creator\"] = x[\"text\"]\n",
    "                if x[\"element\"][\"name\"] == \"Title\":\n",
    "                    new_item_dict[\"title\"] = x[\"text\"]\n",
    "                if x[\"element\"][\"name\"] == \"Type\":\n",
    "                    new_item_dict[\"type\"].append(x[\"text\"])\n",
    "            for x in item[\"tags\"]:\n",
    "                new_item_dict[\"tags\"].append(x[\"name\"])\n",
    "            item_list.append(new_item_dict)"
   ]
  },
  {
   "cell_type": "code",
   "execution_count": 11,
   "metadata": {
    "scrolled": true
   },
   "outputs": [
    {
     "data": {
      "text/html": [
       "<div>\n",
       "<style scoped>\n",
       "    .dataframe tbody tr th:only-of-type {\n",
       "        vertical-align: middle;\n",
       "    }\n",
       "\n",
       "    .dataframe tbody tr th {\n",
       "        vertical-align: top;\n",
       "    }\n",
       "\n",
       "    .dataframe thead th {\n",
       "        text-align: right;\n",
       "    }\n",
       "</style>\n",
       "<table border=\"1\" class=\"dataframe\">\n",
       "  <thead>\n",
       "    <tr style=\"text-align: right;\">\n",
       "      <th></th>\n",
       "      <th>creator</th>\n",
       "      <th>date</th>\n",
       "      <th>id</th>\n",
       "      <th>tags</th>\n",
       "      <th>text</th>\n",
       "      <th>title</th>\n",
       "      <th>type</th>\n",
       "    </tr>\n",
       "  </thead>\n",
       "  <tbody>\n",
       "    <tr>\n",
       "      <th>0</th>\n",
       "      <td>Addams, Jane</td>\n",
       "      <td>1907-09-05</td>\n",
       "      <td>17</td>\n",
       "      <td>[Industry, Labor, Writings]</td>\n",
       "      <td>&lt;div style=\"text-align: center;\"&gt;EFFECT OF FAM...</td>\n",
       "      <td>Effect of Familiarity, September 5, 1907</td>\n",
       "      <td>[article]</td>\n",
       "    </tr>\n",
       "    <tr>\n",
       "      <th>1</th>\n",
       "      <td>Addams, Jane</td>\n",
       "      <td>1906-02-01</td>\n",
       "      <td>18</td>\n",
       "      <td>[Education, Immigrants, Lectures]</td>\n",
       "      <td>&lt;p style=\"text-align: center;\"&gt;ELECTIVE OR APP...</td>\n",
       "      <td>Elective or Appointive School Board, February ...</td>\n",
       "      <td>[speech]</td>\n",
       "    </tr>\n",
       "    <tr>\n",
       "      <th>2</th>\n",
       "      <td>Addams, Jane</td>\n",
       "      <td>1914-01-31</td>\n",
       "      <td>19</td>\n",
       "      <td>[Travels, Writings]</td>\n",
       "      <td>&lt;div style=\"text-align: center;\"&gt;Hull-House&lt;/d...</td>\n",
       "      <td>Jane Addams to James Henry Breasted, January 3...</td>\n",
       "      <td>[letter]</td>\n",
       "    </tr>\n",
       "    <tr>\n",
       "      <th>3</th>\n",
       "      <td>Addams, Jane</td>\n",
       "      <td>1901-01-10</td>\n",
       "      <td>48</td>\n",
       "      <td>[Writing]</td>\n",
       "      <td>THE DELANO &lt;br /&gt;\\r\\n&lt;div style=\"text-align: r...</td>\n",
       "      <td>Jane Addams to Richard T. Ely, January 10, 1901</td>\n",
       "      <td>[letter]</td>\n",
       "    </tr>\n",
       "    <tr>\n",
       "      <th>4</th>\n",
       "      <td>Addams, Jane</td>\n",
       "      <td>1901-01-10</td>\n",
       "      <td>49</td>\n",
       "      <td>[Books, Family]</td>\n",
       "      <td>HULL-HOUSE&lt;br /&gt; 335 SOUTH HALSTED STREET &lt;br ...</td>\n",
       "      <td>Jane Addams to Sarah Alice Addams Haldeman, Ja...</td>\n",
       "      <td>[letter]</td>\n",
       "    </tr>\n",
       "  </tbody>\n",
       "</table>\n",
       "</div>"
      ],
      "text/plain": [
       "        creator        date  id                               tags  \\\n",
       "0  Addams, Jane  1907-09-05  17        [Industry, Labor, Writings]   \n",
       "1  Addams, Jane  1906-02-01  18  [Education, Immigrants, Lectures]   \n",
       "2  Addams, Jane  1914-01-31  19                [Travels, Writings]   \n",
       "3  Addams, Jane  1901-01-10  48                          [Writing]   \n",
       "4  Addams, Jane  1901-01-10  49                    [Books, Family]   \n",
       "\n",
       "                                                text  \\\n",
       "0  <div style=\"text-align: center;\">EFFECT OF FAM...   \n",
       "1  <p style=\"text-align: center;\">ELECTIVE OR APP...   \n",
       "2  <div style=\"text-align: center;\">Hull-House</d...   \n",
       "3  THE DELANO <br />\\r\\n<div style=\"text-align: r...   \n",
       "4  HULL-HOUSE<br /> 335 SOUTH HALSTED STREET <br ...   \n",
       "\n",
       "                                               title       type  \n",
       "0           Effect of Familiarity, September 5, 1907  [article]  \n",
       "1  Elective or Appointive School Board, February ...   [speech]  \n",
       "2  Jane Addams to James Henry Breasted, January 3...   [letter]  \n",
       "3    Jane Addams to Richard T. Ely, January 10, 1901   [letter]  \n",
       "4  Jane Addams to Sarah Alice Addams Haldeman, Ja...   [letter]  "
      ]
     },
     "execution_count": 11,
     "metadata": {},
     "output_type": "execute_result"
    }
   ],
   "source": [
    "item_df = pd.DataFrame(item_list).dropna()\n",
    "item_df.head()"
   ]
  },
  {
   "cell_type": "code",
   "execution_count": 12,
   "metadata": {
    "scrolled": true
   },
   "outputs": [
    {
     "data": {
      "text/plain": [
       "7741"
      ]
     },
     "execution_count": 12,
     "metadata": {},
     "output_type": "execute_result"
    }
   ],
   "source": [
    "len(item_df)"
   ]
  },
  {
   "cell_type": "markdown",
   "metadata": {},
   "source": [
    "Text cleaning helper functions "
   ]
  },
  {
   "cell_type": "code",
   "execution_count": 13,
   "metadata": {
    "collapsed": true
   },
   "outputs": [],
   "source": [
    "# cleaning function \n",
    "# removes HTML from transcription \n",
    "# replace <br> with newline characters  \n",
    "# replace others with spaces to maintain word separation\n",
    "# normalizes by making all lowercase\n",
    "# removes special characters and punctuation\n",
    "# removes digits\n",
    "def clean_text(text):\n",
    "    r = '<br />'\n",
    "    r1 = '<.*?>'\n",
    "    r2 = '\\r\\n'\n",
    "    r3 = '[^\\w\\s]' #punctuation\n",
    "    r4 = '\\d' #numbers\n",
    "    text = re.sub(r, ' ', text)\n",
    "    text = re.sub(r1, '', text)\n",
    "    text = re.sub(r2, ' ', text)\n",
    "    text = text.lower()\n",
    "    text = re.sub(r3, '', text)\n",
    "    text = re.sub(r4, '', text)\n",
    "    return text \n",
    "\n",
    "# next step would be to split into words \n",
    "def split_words(text):\n",
    "    return text.split()\n",
    "\n",
    "# function to remove stop words from a piece of text \n",
    "# uses the stop words list from spacy \n",
    "# input must be a list of words \n",
    "def remove_stop_words(text):\n",
    "    text_words_nostop = []\n",
    "    for word in text:\n",
    "        if word not in STOP_WORDS and word != \"nbsp\":\n",
    "            text_words_nostop.append(word)\n",
    "    return text_words_nostop\n",
    "\n",
    "# after inspecting the text, there are lots of 1 and 2 letter words that are abbreviations \n",
    "# this is a function to remove those \n",
    "# input is a list of words \n",
    "# output is a list of words\n",
    "def remove_short_words(text):\n",
    "    text_no_short = []\n",
    "    for word in text:\n",
    "        if not(len(word) == 1 or len(word) == 2):\n",
    "            text_no_short.append(word)\n",
    "    return text_no_short\n",
    "\n",
    "# there are lots of words that are like \"concentrationnbsp\" or \"nbsp\" will be between two words so it becomes one word\n",
    "# this is to clean those out \n",
    "# input is a list of words\n",
    "# output is a list of words \n",
    "def clean_nbsp(text):\n",
    "    text_no_nbsp = []\n",
    "    r = 'nbsp'\n",
    "    for word in text: \n",
    "        clean_word = re.sub(r, '', word) #replace nbsp with empty string to remove \n",
    "        text_no_nbsp.append(clean_word)\n",
    "    return text_no_nbsp\n",
    "\n",
    "# most common words function \n",
    "# will return a counter object of 10 most common words \n",
    "# not necessarily part of the pipeline always, more helpful for individual pieces of text \n",
    "def most_common(text):\n",
    "    return Counter(text).most_common(10)"
   ]
  },
  {
   "cell_type": "code",
   "execution_count": 14,
   "metadata": {
    "scrolled": true
   },
   "outputs": [
    {
     "data": {
      "text/html": [
       "<div>\n",
       "<style scoped>\n",
       "    .dataframe tbody tr th:only-of-type {\n",
       "        vertical-align: middle;\n",
       "    }\n",
       "\n",
       "    .dataframe tbody tr th {\n",
       "        vertical-align: top;\n",
       "    }\n",
       "\n",
       "    .dataframe thead th {\n",
       "        text-align: right;\n",
       "    }\n",
       "</style>\n",
       "<table border=\"1\" class=\"dataframe\">\n",
       "  <thead>\n",
       "    <tr style=\"text-align: right;\">\n",
       "      <th></th>\n",
       "      <th>creator</th>\n",
       "      <th>date</th>\n",
       "      <th>id</th>\n",
       "      <th>tags</th>\n",
       "      <th>text</th>\n",
       "      <th>title</th>\n",
       "      <th>type</th>\n",
       "    </tr>\n",
       "  </thead>\n",
       "  <tbody>\n",
       "    <tr>\n",
       "      <th>0</th>\n",
       "      <td>Addams, Jane</td>\n",
       "      <td>1907-09-05</td>\n",
       "      <td>17</td>\n",
       "      <td>[Industry, Labor, Writings]</td>\n",
       "      <td>[effect, familiarity, jane, addams, hard, fami...</td>\n",
       "      <td>Effect of Familiarity, September 5, 1907</td>\n",
       "      <td>[article]</td>\n",
       "    </tr>\n",
       "    <tr>\n",
       "      <th>1</th>\n",
       "      <td>Addams, Jane</td>\n",
       "      <td>1906-02-01</td>\n",
       "      <td>18</td>\n",
       "      <td>[Education, Immigrants, Lectures]</td>\n",
       "      <td>[elective, appointive, school, board, jane, ad...</td>\n",
       "      <td>Elective or Appointive School Board, February ...</td>\n",
       "      <td>[speech]</td>\n",
       "    </tr>\n",
       "    <tr>\n",
       "      <th>2</th>\n",
       "      <td>Addams, Jane</td>\n",
       "      <td>1914-01-31</td>\n",
       "      <td>19</td>\n",
       "      <td>[Travels, Writings]</td>\n",
       "      <td>[hullhouse, south, halsted, street, chicago, j...</td>\n",
       "      <td>Jane Addams to James Henry Breasted, January 3...</td>\n",
       "      <td>[letter]</td>\n",
       "    </tr>\n",
       "    <tr>\n",
       "      <th>3</th>\n",
       "      <td>Addams, Jane</td>\n",
       "      <td>1901-01-10</td>\n",
       "      <td>48</td>\n",
       "      <td>[Writing]</td>\n",
       "      <td>[delano, burlington, iowa, jany, dear, ely, at...</td>\n",
       "      <td>Jane Addams to Richard T. Ely, January 10, 1901</td>\n",
       "      <td>[letter]</td>\n",
       "    </tr>\n",
       "    <tr>\n",
       "      <th>4</th>\n",
       "      <td>Addams, Jane</td>\n",
       "      <td>1901-01-10</td>\n",
       "      <td>49</td>\n",
       "      <td>[Books, Family]</td>\n",
       "      <td>[hullhouse, south, halsted, street, chicago, j...</td>\n",
       "      <td>Jane Addams to Sarah Alice Addams Haldeman, Ja...</td>\n",
       "      <td>[letter]</td>\n",
       "    </tr>\n",
       "  </tbody>\n",
       "</table>\n",
       "</div>"
      ],
      "text/plain": [
       "        creator        date  id                               tags  \\\n",
       "0  Addams, Jane  1907-09-05  17        [Industry, Labor, Writings]   \n",
       "1  Addams, Jane  1906-02-01  18  [Education, Immigrants, Lectures]   \n",
       "2  Addams, Jane  1914-01-31  19                [Travels, Writings]   \n",
       "3  Addams, Jane  1901-01-10  48                          [Writing]   \n",
       "4  Addams, Jane  1901-01-10  49                    [Books, Family]   \n",
       "\n",
       "                                                text  \\\n",
       "0  [effect, familiarity, jane, addams, hard, fami...   \n",
       "1  [elective, appointive, school, board, jane, ad...   \n",
       "2  [hullhouse, south, halsted, street, chicago, j...   \n",
       "3  [delano, burlington, iowa, jany, dear, ely, at...   \n",
       "4  [hullhouse, south, halsted, street, chicago, j...   \n",
       "\n",
       "                                               title       type  \n",
       "0           Effect of Familiarity, September 5, 1907  [article]  \n",
       "1  Elective or Appointive School Board, February ...   [speech]  \n",
       "2  Jane Addams to James Henry Breasted, January 3...   [letter]  \n",
       "3    Jane Addams to Richard T. Ely, January 10, 1901   [letter]  \n",
       "4  Jane Addams to Sarah Alice Addams Haldeman, Ja...   [letter]  "
      ]
     },
     "execution_count": 14,
     "metadata": {},
     "output_type": "execute_result"
    }
   ],
   "source": [
    "#clean and replace text column \n",
    "# for text in text_list:\n",
    "#     text = clean_text(text)\n",
    "#     text = split_words(text)\n",
    "#     text = remove_stop_words(text)\n",
    "#     text = remove_short_words(text)\n",
    "#     all_text.extend(text)\n",
    "#first make sure all are strings \n",
    "item_df[\"text\"] = item_df[\"text\"].astype(\"str\")\n",
    "item_df[\"text\"] = item_df[\"text\"].apply(clean_text)\n",
    "item_df[\"text\"] = item_df[\"text\"].apply(split_words)\n",
    "item_df[\"text\"] = item_df[\"text\"].apply(remove_stop_words)\n",
    "item_df[\"text\"] = item_df[\"text\"].apply(remove_short_words)\n",
    "item_df[\"text\"] = item_df[\"text\"].apply(clean_nbsp)\n",
    "item_df.head()"
   ]
  },
  {
   "cell_type": "markdown",
   "metadata": {},
   "source": [
    "Below, cleaning dates by adding a \"year\" to each line in the df.  "
   ]
  },
  {
   "cell_type": "code",
   "execution_count": 1,
   "metadata": {
    "collapsed": true
   },
   "outputs": [],
   "source": [
    "def date_cleaning(date): \n",
    "    x = re.search(r'^\\d{4}', date)\n",
    "    if not x:\n",
    "        result = \"NA\"\n",
    "    else:\n",
    "        result = x[0]\n",
    "    return result "
   ]
  },
  {
   "cell_type": "code",
   "execution_count": null,
   "metadata": {
    "collapsed": true
   },
   "outputs": [],
   "source": [
    "item_df[\"year\"] = item_df[\"date\"].apply(date_cleaning)\n",
    "item_df.head()"
   ]
  },
  {
   "cell_type": "code",
   "execution_count": 15,
   "metadata": {
    "collapsed": true
   },
   "outputs": [],
   "source": [
    "def bigrams(text):\n",
    "    result = list(nltk.ngrams(text, 2))\n",
    "    return result "
   ]
  },
  {
   "cell_type": "code",
   "execution_count": 16,
   "metadata": {},
   "outputs": [
    {
     "data": {
      "text/html": [
       "<div>\n",
       "<style scoped>\n",
       "    .dataframe tbody tr th:only-of-type {\n",
       "        vertical-align: middle;\n",
       "    }\n",
       "\n",
       "    .dataframe tbody tr th {\n",
       "        vertical-align: top;\n",
       "    }\n",
       "\n",
       "    .dataframe thead th {\n",
       "        text-align: right;\n",
       "    }\n",
       "</style>\n",
       "<table border=\"1\" class=\"dataframe\">\n",
       "  <thead>\n",
       "    <tr style=\"text-align: right;\">\n",
       "      <th></th>\n",
       "      <th>creator</th>\n",
       "      <th>date</th>\n",
       "      <th>id</th>\n",
       "      <th>tags</th>\n",
       "      <th>text</th>\n",
       "      <th>title</th>\n",
       "      <th>type</th>\n",
       "      <th>bigrams</th>\n",
       "    </tr>\n",
       "  </thead>\n",
       "  <tbody>\n",
       "    <tr>\n",
       "      <th>0</th>\n",
       "      <td>Addams, Jane</td>\n",
       "      <td>1907-09-05</td>\n",
       "      <td>17</td>\n",
       "      <td>[Industry, Labor, Writings]</td>\n",
       "      <td>[effect, familiarity, jane, addams, hard, fami...</td>\n",
       "      <td>Effect of Familiarity, September 5, 1907</td>\n",
       "      <td>[article]</td>\n",
       "      <td>[(effect, familiarity), (familiarity, jane), (...</td>\n",
       "    </tr>\n",
       "    <tr>\n",
       "      <th>1</th>\n",
       "      <td>Addams, Jane</td>\n",
       "      <td>1906-02-01</td>\n",
       "      <td>18</td>\n",
       "      <td>[Education, Immigrants, Lectures]</td>\n",
       "      <td>[elective, appointive, school, board, jane, ad...</td>\n",
       "      <td>Elective or Appointive School Board, February ...</td>\n",
       "      <td>[speech]</td>\n",
       "      <td>[(elective, appointive), (appointive, school),...</td>\n",
       "    </tr>\n",
       "    <tr>\n",
       "      <th>2</th>\n",
       "      <td>Addams, Jane</td>\n",
       "      <td>1914-01-31</td>\n",
       "      <td>19</td>\n",
       "      <td>[Travels, Writings]</td>\n",
       "      <td>[hullhouse, south, halsted, street, chicago, j...</td>\n",
       "      <td>Jane Addams to James Henry Breasted, January 3...</td>\n",
       "      <td>[letter]</td>\n",
       "      <td>[(hullhouse, south), (south, halsted), (halste...</td>\n",
       "    </tr>\n",
       "    <tr>\n",
       "      <th>3</th>\n",
       "      <td>Addams, Jane</td>\n",
       "      <td>1901-01-10</td>\n",
       "      <td>48</td>\n",
       "      <td>[Writing]</td>\n",
       "      <td>[delano, burlington, iowa, jany, dear, ely, at...</td>\n",
       "      <td>Jane Addams to Richard T. Ely, January 10, 1901</td>\n",
       "      <td>[letter]</td>\n",
       "      <td>[(delano, burlington), (burlington, iowa), (io...</td>\n",
       "    </tr>\n",
       "    <tr>\n",
       "      <th>4</th>\n",
       "      <td>Addams, Jane</td>\n",
       "      <td>1901-01-10</td>\n",
       "      <td>49</td>\n",
       "      <td>[Books, Family]</td>\n",
       "      <td>[hullhouse, south, halsted, street, chicago, j...</td>\n",
       "      <td>Jane Addams to Sarah Alice Addams Haldeman, Ja...</td>\n",
       "      <td>[letter]</td>\n",
       "      <td>[(hullhouse, south), (south, halsted), (halste...</td>\n",
       "    </tr>\n",
       "  </tbody>\n",
       "</table>\n",
       "</div>"
      ],
      "text/plain": [
       "        creator        date  id                               tags  \\\n",
       "0  Addams, Jane  1907-09-05  17        [Industry, Labor, Writings]   \n",
       "1  Addams, Jane  1906-02-01  18  [Education, Immigrants, Lectures]   \n",
       "2  Addams, Jane  1914-01-31  19                [Travels, Writings]   \n",
       "3  Addams, Jane  1901-01-10  48                          [Writing]   \n",
       "4  Addams, Jane  1901-01-10  49                    [Books, Family]   \n",
       "\n",
       "                                                text  \\\n",
       "0  [effect, familiarity, jane, addams, hard, fami...   \n",
       "1  [elective, appointive, school, board, jane, ad...   \n",
       "2  [hullhouse, south, halsted, street, chicago, j...   \n",
       "3  [delano, burlington, iowa, jany, dear, ely, at...   \n",
       "4  [hullhouse, south, halsted, street, chicago, j...   \n",
       "\n",
       "                                               title       type  \\\n",
       "0           Effect of Familiarity, September 5, 1907  [article]   \n",
       "1  Elective or Appointive School Board, February ...   [speech]   \n",
       "2  Jane Addams to James Henry Breasted, January 3...   [letter]   \n",
       "3    Jane Addams to Richard T. Ely, January 10, 1901   [letter]   \n",
       "4  Jane Addams to Sarah Alice Addams Haldeman, Ja...   [letter]   \n",
       "\n",
       "                                             bigrams  \n",
       "0  [(effect, familiarity), (familiarity, jane), (...  \n",
       "1  [(elective, appointive), (appointive, school),...  \n",
       "2  [(hullhouse, south), (south, halsted), (halste...  \n",
       "3  [(delano, burlington), (burlington, iowa), (io...  \n",
       "4  [(hullhouse, south), (south, halsted), (halste...  "
      ]
     },
     "execution_count": 16,
     "metadata": {},
     "output_type": "execute_result"
    }
   ],
   "source": [
    "bigrams_list = item_df[\"text\"].apply(bigrams)\n",
    "item_df[\"bigrams\"] = bigrams_list\n",
    "item_df.head()"
   ]
  },
  {
   "cell_type": "code",
   "execution_count": 68,
   "metadata": {
    "collapsed": true
   },
   "outputs": [],
   "source": [
    "flattened_bigram_list = []\n",
    "for x in item_df[\"bigrams\"]:\n",
    "    flattened_bigram_list.extend(x)\n",
    "bigrams_series = pd.Series(flattened_bigram_list)"
   ]
  },
  {
   "cell_type": "code",
   "execution_count": 69,
   "metadata": {},
   "outputs": [
    {
     "data": {
      "text/plain": [
       "(jane, addams)               5378\n",
       "(miss, addams)               5001\n",
       "(dear, miss)                 3079\n",
       "(new, york)                  2802\n",
       "(miss, jane)                 2719\n",
       "(hull, house)                2594\n",
       "(street, chicago)            1644\n",
       "(halsted, street)            1558\n",
       "(south, halsted)             1492\n",
       "(addams, hull)               1375\n",
       "(hullhouse, south)           1323\n",
       "(united, states)             1310\n",
       "(house, chicago)             1194\n",
       "(chicago, ill)               1141\n",
       "(peace, party)               1077\n",
       "(womans, peace)               976\n",
       "(chicago, dear)               926\n",
       "(ill, dear)                   736\n",
       "(addams, signed)              671\n",
       "(dear, mrs)                   579\n",
       "(child, labor)                558\n",
       "(chicago, illinois)           526\n",
       "(york, city)                  523\n",
       "(progressive, party)          507\n",
       "(men, women)                  477\n",
       "(years, ago)                  443\n",
       "(faithfully, jane)            405\n",
       "(sincerely, jane)             396\n",
       "(young, people)               395\n",
       "(let, know)                   385\n",
       "                             ... \n",
       "(ltwasgt, private)              1\n",
       "(conform, traditions)           1\n",
       "(question, particular)          1\n",
       "(detroit, interested)           1\n",
       "(affairs, states)               1\n",
       "(stopping, felt)                1\n",
       "(rundschan, united)             1\n",
       "(manus, feel)                   1\n",
       "(milwaukee, blocks)             1\n",
       "(come, believing)               1\n",
       "(agrocultural, education)       1\n",
       "(article, jane)                 1\n",
       "(contract, rigid)               1\n",
       "(enthusiastically, hall)        1\n",
       "(lost, makes)                   1\n",
       "(difference, far)               1\n",
       "(immigration, problem)          1\n",
       "(need, beseech)                 1\n",
       "(residents, old)                1\n",
       "(department, illogical)         1\n",
       "(resurrection, gorkys)          1\n",
       "(activities, describe)          1\n",
       "(rates, efficient)              1\n",
       "(attorney, public)              1\n",
       "(helping, families)             1\n",
       "(thoroughly, conversant)        1\n",
       "(forget, week)                  1\n",
       "(good, addressing)              1\n",
       "(suited, mind)                  1\n",
       "(waukegan, bills)               1\n",
       "Length: 720279, dtype: int64"
      ]
     },
     "execution_count": 69,
     "metadata": {},
     "output_type": "execute_result"
    }
   ],
   "source": [
    "bigrams_series.value_counts()"
   ]
  },
  {
   "cell_type": "code",
   "execution_count": 18,
   "metadata": {
    "collapsed": true
   },
   "outputs": [],
   "source": [
    "pd.options.mode.chained_assignment = None"
   ]
  },
  {
   "cell_type": "markdown",
   "metadata": {},
   "source": [
    "# Word Frequencies by Year \n",
    "<br> \n",
    "The following code generates word frequency graphs by year bar graphs for the years 1901 and 1915.  The following years are those that have enough data to generate a graph: 1900-1923. <br>  "
   ]
  },
  {
   "cell_type": "code",
   "execution_count": null,
   "metadata": {
    "collapsed": true
   },
   "outputs": [],
   "source": [
    "word_freq_by_year_dict = {}\n",
    "for index, row in item_df.iterrows(): \n",
    "    if row[\"year\"] not in word_freq_by_year_dict: \n",
    "        word_freq_by_year_dict[row[\"year\"]] = row[\"text\"]\n",
    "    else:\n",
    "        word_freq_by_year_dict[row[\"year\"]].extend(row[\"text\"])"
   ]
  },
  {
   "cell_type": "code",
   "execution_count": 19,
   "metadata": {},
   "outputs": [
    {
     "data": {
      "text/plain": [
       "dict_keys(['1907', '1906', '1914', '1901', '1900', '1902', '1903', '1905', '1904', '1933', '1908', '1909', '1910', '1911', '1912', '1913', '1915', '1916', 'NA', '1917', '1918', '1921', '1920', '1922', '1923', '1919', '1899', '2016'])"
      ]
     },
     "execution_count": 19,
     "metadata": {},
     "output_type": "execute_result"
    }
   ],
   "source": [
    "word_freq_by_year_dict.keys()  "
   ]
  },
  {
   "cell_type": "code",
   "execution_count": 23,
   "metadata": {},
   "outputs": [
    {
     "data": {
      "text/plain": [
       "array([198, 192, 179, ...,   1,   1,   1])"
      ]
     },
     "execution_count": 23,
     "metadata": {},
     "output_type": "execute_result"
    }
   ],
   "source": [
    "x = pd.Series(word_freq_by_year_dict[\"1901\"]).value_counts()\n",
    "x.values"
   ]
  },
  {
   "cell_type": "code",
   "execution_count": 94,
   "metadata": {
    "scrolled": true
   },
   "outputs": [
    {
     "data": {
      "text/html": [
       "<iframe id=\"igraph\" scrolling=\"no\" style=\"border:none;\" seamless=\"seamless\" src=\"https://plot.ly/~japprcnj2/2.embed\" height=\"525px\" width=\"100%\"></iframe>"
      ],
      "text/plain": [
       "<plotly.tools.PlotlyDisplay object>"
      ]
     },
     "execution_count": 94,
     "metadata": {},
     "output_type": "execute_result"
    }
   ],
   "source": [
    " value_counts_1900 = pd.Series(word_freq_by_year_dict[\"1900\"]).value_counts()\n",
    "data1900 = [go.Bar(x=value_counts_1900.index,y=value_counts_1900.values)]\n",
    "layout1900 = go.Layout(title=\"Most Common Words 1900\",\n",
    "                xaxis=dict(title='Words'),\n",
    "                yaxis=dict(title='Number of Appearances in Text'))\n",
    "fig1900 = go.Figure(data=data1900, layout=layout1900)\n",
    "py.iplot(fig1900, filename='word_frequency_1900')"
   ]
  },
  {
   "cell_type": "code",
   "execution_count": 98,
   "metadata": {},
   "outputs": [
    {
     "name": "stdout",
     "output_type": "stream",
     "text": [
      "High five! You successfully sent some data to your account on plotly. View your plot in your browser at https://plot.ly/~japprcnj2/0 or inside your plot.ly account where it is named 'word_frequency_1901'\n"
     ]
    },
    {
     "data": {
      "text/html": [
       "<iframe id=\"igraph\" scrolling=\"no\" style=\"border:none;\" seamless=\"seamless\" src=\"https://plot.ly/~japprcnj2/0.embed\" height=\"525px\" width=\"100%\"></iframe>"
      ],
      "text/plain": [
       "<plotly.tools.PlotlyDisplay object>"
      ]
     },
     "execution_count": 98,
     "metadata": {},
     "output_type": "execute_result"
    }
   ],
   "source": [
    "#a year - 1901 \n",
    "value_counts_1901 = pd.Series(word_freq_by_year_dict[\"1901\"]).value_counts()\n",
    "data1901 = [go.Bar(x=value_counts_1901.index,y=value_counts_1901.values)]\n",
    "layout1901 = go.Layout(title=\"Most Common Words 1901\",\n",
    "                xaxis=dict(title='Words'),\n",
    "                yaxis=dict(title='Number of Appearances in Text'))\n",
    "fig1901 = go.Figure(data=data1901, layout=layout1901)\n",
    "py.iplot(fig1901, filename='word_frequency_1901')"
   ]
  },
  {
   "cell_type": "code",
   "execution_count": 101,
   "metadata": {
    "scrolled": false
   },
   "outputs": [
    {
     "data": {
      "text/html": [
       "<iframe id=\"igraph\" scrolling=\"no\" style=\"border:none;\" seamless=\"seamless\" src=\"https://plot.ly/~japprcnj2/4.embed\" height=\"525px\" width=\"100%\"></iframe>"
      ],
      "text/plain": [
       "<plotly.tools.PlotlyDisplay object>"
      ]
     },
     "execution_count": 101,
     "metadata": {},
     "output_type": "execute_result"
    }
   ],
   "source": [
    "value_counts_1902 = pd.Series(word_freq_by_year_dict[\"1902\"]).value_counts()\n",
    "data1902 = [go.Bar(x=value_counts_1902.index,y=value_counts_1902.values)]\n",
    "layout1902 = go.Layout(title=\"Most Common Words 1902\",\n",
    "                xaxis=dict(title='Words'),\n",
    "                yaxis=dict(title='Number of Appearances in Text'))\n",
    "fig1902 = go.Figure(data=data1902, layout=layout1902)\n",
    "py.iplot(fig1902, filename='word_frequency_1902')"
   ]
  },
  {
   "cell_type": "code",
   "execution_count": 24,
   "metadata": {},
   "outputs": [
    {
     "data": {
      "text/html": [
       "<iframe id=\"igraph\" scrolling=\"no\" style=\"border:none;\" seamless=\"seamless\" src=\"https://plot.ly/~japprcnj2/6.embed\" height=\"525px\" width=\"100%\"></iframe>"
      ],
      "text/plain": [
       "<plotly.tools.PlotlyDisplay object>"
      ]
     },
     "execution_count": 24,
     "metadata": {},
     "output_type": "execute_result"
    }
   ],
   "source": [
    "value_counts_1903 = pd.Series(word_freq_by_year_dict[\"1903\"]).value_counts()\n",
    "data1903 = [go.Bar(x=value_counts_1903.index,y=value_counts_1903.values)]\n",
    "layout1903 = go.Layout(title=\"Most Common Words 1903\",\n",
    "                xaxis=dict(title='Words'),\n",
    "                yaxis=dict(title='Number of Appearances in Text'))\n",
    "fig1903 = go.Figure(data=data1903, layout=layout1903)\n",
    "py.iplot(fig1903, filename='word_frequency_1903')"
   ]
  },
  {
   "cell_type": "code",
   "execution_count": 25,
   "metadata": {},
   "outputs": [
    {
     "data": {
      "text/html": [
       "<iframe id=\"igraph\" scrolling=\"no\" style=\"border:none;\" seamless=\"seamless\" src=\"https://plot.ly/~japprcnj2/8.embed\" height=\"525px\" width=\"100%\"></iframe>"
      ],
      "text/plain": [
       "<plotly.tools.PlotlyDisplay object>"
      ]
     },
     "execution_count": 25,
     "metadata": {},
     "output_type": "execute_result"
    }
   ],
   "source": [
    "value_counts_1904 = pd.Series(word_freq_by_year_dict[\"1904\"]).value_counts()\n",
    "data1904 = [go.Bar(x=value_counts_1904.index,y=value_counts_1904.values)]\n",
    "layout1904 = go.Layout(title=\"Most Common Words 1904\",\n",
    "                xaxis=dict(title='Words'),\n",
    "                yaxis=dict(title='Number of Appearances in Text'))\n",
    "fig1904 = go.Figure(data=data1904, layout=layout1904)\n",
    "py.iplot(fig1904, filename='word_frequency_1904')"
   ]
  },
  {
   "cell_type": "code",
   "execution_count": 26,
   "metadata": {},
   "outputs": [
    {
     "data": {
      "text/html": [
       "<iframe id=\"igraph\" scrolling=\"no\" style=\"border:none;\" seamless=\"seamless\" src=\"https://plot.ly/~japprcnj2/10.embed\" height=\"525px\" width=\"100%\"></iframe>"
      ],
      "text/plain": [
       "<plotly.tools.PlotlyDisplay object>"
      ]
     },
     "execution_count": 26,
     "metadata": {},
     "output_type": "execute_result"
    }
   ],
   "source": [
    "value_counts_1905 = pd.Series(word_freq_by_year_dict[\"1905\"]).value_counts()\n",
    "data1905 = [go.Bar(x=value_counts_1905.index,y=value_counts_1905.values)]\n",
    "layout1905 = go.Layout(title=\"Most Common Words 1905\",\n",
    "                xaxis=dict(title='Words'),\n",
    "                yaxis=dict(title='Number of Appearances in Text'))\n",
    "fig1905 = go.Figure(data=data1905, layout=layout1905)\n",
    "py.iplot(fig1905, filename='word_frequency_1905')"
   ]
  },
  {
   "cell_type": "code",
   "execution_count": 27,
   "metadata": {},
   "outputs": [
    {
     "data": {
      "text/html": [
       "<iframe id=\"igraph\" scrolling=\"no\" style=\"border:none;\" seamless=\"seamless\" src=\"https://plot.ly/~japprcnj2/12.embed\" height=\"525px\" width=\"100%\"></iframe>"
      ],
      "text/plain": [
       "<plotly.tools.PlotlyDisplay object>"
      ]
     },
     "execution_count": 27,
     "metadata": {},
     "output_type": "execute_result"
    }
   ],
   "source": [
    "value_counts_1906 = pd.Series(word_freq_by_year_dict[\"1906\"]).value_counts()\n",
    "data1906 = [go.Bar(x=value_counts_1906.index,y=value_counts_1906.values)]\n",
    "layout1906 = go.Layout(title=\"Most Common Words 1906\",\n",
    "                xaxis=dict(title='Words'),\n",
    "                yaxis=dict(title='Number of Appearances in Text'))\n",
    "fig1906 = go.Figure(data=data1906, layout=layout1906)\n",
    "py.iplot(fig1906, filename='word_frequency_1906')"
   ]
  },
  {
   "cell_type": "code",
   "execution_count": 28,
   "metadata": {},
   "outputs": [
    {
     "data": {
      "text/html": [
       "<iframe id=\"igraph\" scrolling=\"no\" style=\"border:none;\" seamless=\"seamless\" src=\"https://plot.ly/~japprcnj2/14.embed\" height=\"525px\" width=\"100%\"></iframe>"
      ],
      "text/plain": [
       "<plotly.tools.PlotlyDisplay object>"
      ]
     },
     "execution_count": 28,
     "metadata": {},
     "output_type": "execute_result"
    }
   ],
   "source": [
    "value_counts_1907 = pd.Series(word_freq_by_year_dict[\"1907\"]).value_counts()\n",
    "data1907 = [go.Bar(x=value_counts_1907.index,y=value_counts_1907.values)]\n",
    "layout1907 = go.Layout(title=\"Most Common Words 1907\",\n",
    "                xaxis=dict(title='Words'),\n",
    "                yaxis=dict(title='Number of Appearances in Text'))\n",
    "fig1907 = go.Figure(data=data1907, layout=layout1907)\n",
    "py.iplot(fig1907, filename='word_frequency_1907')"
   ]
  },
  {
   "cell_type": "code",
   "execution_count": 29,
   "metadata": {},
   "outputs": [
    {
     "data": {
      "text/html": [
       "<iframe id=\"igraph\" scrolling=\"no\" style=\"border:none;\" seamless=\"seamless\" src=\"https://plot.ly/~japprcnj2/16.embed\" height=\"525px\" width=\"100%\"></iframe>"
      ],
      "text/plain": [
       "<plotly.tools.PlotlyDisplay object>"
      ]
     },
     "execution_count": 29,
     "metadata": {},
     "output_type": "execute_result"
    }
   ],
   "source": [
    "value_counts_1908 = pd.Series(word_freq_by_year_dict[\"1908\"]).value_counts()\n",
    "data1908 = [go.Bar(x=value_counts_1908.index,y=value_counts_1908.values)]\n",
    "layout1908 = go.Layout(title=\"Most Common Words 1908\",\n",
    "                xaxis=dict(title='Words'),\n",
    "                yaxis=dict(title='Number of Appearances in Text'))\n",
    "fig1908 = go.Figure(data=data1908, layout=layout1908)\n",
    "py.iplot(fig1908, filename='word_frequency_1908')"
   ]
  },
  {
   "cell_type": "code",
   "execution_count": 30,
   "metadata": {},
   "outputs": [
    {
     "data": {
      "text/html": [
       "<iframe id=\"igraph\" scrolling=\"no\" style=\"border:none;\" seamless=\"seamless\" src=\"https://plot.ly/~japprcnj2/18.embed\" height=\"525px\" width=\"100%\"></iframe>"
      ],
      "text/plain": [
       "<plotly.tools.PlotlyDisplay object>"
      ]
     },
     "execution_count": 30,
     "metadata": {},
     "output_type": "execute_result"
    }
   ],
   "source": [
    "value_counts_1909 = pd.Series(word_freq_by_year_dict[\"1909\"]).value_counts()\n",
    "data1909 = [go.Bar(x=value_counts_1909.index,y=value_counts_1909.values)]\n",
    "layout1909 = go.Layout(title=\"Most Common Words 1909\",\n",
    "                xaxis=dict(title='Words'),\n",
    "                yaxis=dict(title='Number of Appearances in Text'))\n",
    "fig1909 = go.Figure(data=data1909, layout=layout1909)\n",
    "py.iplot(fig1909, filename='word_frequency_1909')"
   ]
  },
  {
   "cell_type": "code",
   "execution_count": 31,
   "metadata": {},
   "outputs": [
    {
     "data": {
      "text/html": [
       "<iframe id=\"igraph\" scrolling=\"no\" style=\"border:none;\" seamless=\"seamless\" src=\"https://plot.ly/~japprcnj2/20.embed\" height=\"525px\" width=\"100%\"></iframe>"
      ],
      "text/plain": [
       "<plotly.tools.PlotlyDisplay object>"
      ]
     },
     "execution_count": 31,
     "metadata": {},
     "output_type": "execute_result"
    }
   ],
   "source": [
    "value_counts_1910 = pd.Series(word_freq_by_year_dict[\"1910\"]).value_counts()\n",
    "data1910 = [go.Bar(x=value_counts_1910.index,y=value_counts_1910.values)]\n",
    "layout1910 = go.Layout(title=\"Most Common Words 1910\",\n",
    "                xaxis=dict(title='Words'),\n",
    "                yaxis=dict(title='Number of Appearances in Text'))\n",
    "fig1910 = go.Figure(data=data1910, layout=layout1910)\n",
    "py.iplot(fig1910, filename='word_frequency_1910')"
   ]
  },
  {
   "cell_type": "code",
   "execution_count": 32,
   "metadata": {},
   "outputs": [
    {
     "data": {
      "text/html": [
       "<iframe id=\"igraph\" scrolling=\"no\" style=\"border:none;\" seamless=\"seamless\" src=\"https://plot.ly/~japprcnj2/22.embed\" height=\"525px\" width=\"100%\"></iframe>"
      ],
      "text/plain": [
       "<plotly.tools.PlotlyDisplay object>"
      ]
     },
     "execution_count": 32,
     "metadata": {},
     "output_type": "execute_result"
    }
   ],
   "source": [
    "value_counts_1911 = pd.Series(word_freq_by_year_dict[\"1911\"]).value_counts()\n",
    "data1911 = [go.Bar(x=value_counts_1911.index,y=value_counts_1911.values)]\n",
    "layout1911 = go.Layout(title=\"Most Common Words 1911\",\n",
    "                xaxis=dict(title='Words'),\n",
    "                yaxis=dict(title='Number of Appearances in Text'))\n",
    "fig1911 = go.Figure(data=data1911, layout=layout1911)\n",
    "py.iplot(fig1911, filename='word_frequency_1911')"
   ]
  },
  {
   "cell_type": "code",
   "execution_count": 33,
   "metadata": {},
   "outputs": [
    {
     "data": {
      "text/html": [
       "<iframe id=\"igraph\" scrolling=\"no\" style=\"border:none;\" seamless=\"seamless\" src=\"https://plot.ly/~japprcnj2/24.embed\" height=\"525px\" width=\"100%\"></iframe>"
      ],
      "text/plain": [
       "<plotly.tools.PlotlyDisplay object>"
      ]
     },
     "execution_count": 33,
     "metadata": {},
     "output_type": "execute_result"
    }
   ],
   "source": [
    "value_counts_1912 = pd.Series(word_freq_by_year_dict[\"1912\"]).value_counts()\n",
    "data1912 = [go.Bar(x=value_counts_1912.index,y=value_counts_1912.values)]\n",
    "layout1912 = go.Layout(title=\"Most Common Words 1912\",\n",
    "                xaxis=dict(title='Words'),\n",
    "                yaxis=dict(title='Number of Appearances in Text'))\n",
    "fig1912 = go.Figure(data=data1912, layout=layout1912)\n",
    "py.iplot(fig1912, filename='word_frequency_1912')"
   ]
  },
  {
   "cell_type": "code",
   "execution_count": 34,
   "metadata": {},
   "outputs": [
    {
     "data": {
      "text/html": [
       "<iframe id=\"igraph\" scrolling=\"no\" style=\"border:none;\" seamless=\"seamless\" src=\"https://plot.ly/~japprcnj2/26.embed\" height=\"525px\" width=\"100%\"></iframe>"
      ],
      "text/plain": [
       "<plotly.tools.PlotlyDisplay object>"
      ]
     },
     "execution_count": 34,
     "metadata": {},
     "output_type": "execute_result"
    }
   ],
   "source": [
    "value_counts_1913 = pd.Series(word_freq_by_year_dict[\"1913\"]).value_counts()\n",
    "data1913 = [go.Bar(x=value_counts_1913.index,y=value_counts_1913.values)]\n",
    "layout1913 = go.Layout(title=\"Most Common Words 1913\",\n",
    "                xaxis=dict(title='Words'),\n",
    "                yaxis=dict(title='Number of Appearances in Text'))\n",
    "fig1913 = go.Figure(data=data1913, layout=layout1913)\n",
    "py.iplot(fig1913, filename='word_frequency_1913')"
   ]
  },
  {
   "cell_type": "code",
   "execution_count": 35,
   "metadata": {},
   "outputs": [
    {
     "data": {
      "text/html": [
       "<iframe id=\"igraph\" scrolling=\"no\" style=\"border:none;\" seamless=\"seamless\" src=\"https://plot.ly/~japprcnj2/28.embed\" height=\"525px\" width=\"100%\"></iframe>"
      ],
      "text/plain": [
       "<plotly.tools.PlotlyDisplay object>"
      ]
     },
     "execution_count": 35,
     "metadata": {},
     "output_type": "execute_result"
    }
   ],
   "source": [
    "value_counts_1914 = pd.Series(word_freq_by_year_dict[\"1914\"]).value_counts()\n",
    "data1914 = [go.Bar(x=value_counts_1914.index,y=value_counts_1914.values)]\n",
    "layout1914 = go.Layout(title=\"Most Common Words 1914\",\n",
    "                xaxis=dict(title='Words'),\n",
    "                yaxis=dict(title='Number of Appearances in Text'))\n",
    "fig1914 = go.Figure(data=data1914, layout=layout1914)\n",
    "py.iplot(fig1914, filename='word_frequency_1914')"
   ]
  },
  {
   "cell_type": "code",
   "execution_count": 36,
   "metadata": {},
   "outputs": [
    {
     "data": {
      "text/html": [
       "<iframe id=\"igraph\" scrolling=\"no\" style=\"border:none;\" seamless=\"seamless\" src=\"https://plot.ly/~japprcnj2/30.embed\" height=\"525px\" width=\"100%\"></iframe>"
      ],
      "text/plain": [
       "<plotly.tools.PlotlyDisplay object>"
      ]
     },
     "execution_count": 36,
     "metadata": {},
     "output_type": "execute_result"
    }
   ],
   "source": [
    "value_counts_1915 = pd.Series(word_freq_by_year_dict[\"1915\"]).value_counts()\n",
    "data1915 = [go.Bar(x=value_counts_1915.index,y=value_counts_1915.values)]\n",
    "layout1915 = go.Layout(title=\"Most Common Words 1915\",\n",
    "                xaxis=dict(title='Words'),\n",
    "                yaxis=dict(title='Number of Appearances in Text'))\n",
    "fig1915 = go.Figure(data=data1915, layout=layout1915)\n",
    "py.iplot(fig1915, filename='word_frequency_1915')"
   ]
  },
  {
   "cell_type": "code",
   "execution_count": 37,
   "metadata": {},
   "outputs": [
    {
     "data": {
      "text/html": [
       "<iframe id=\"igraph\" scrolling=\"no\" style=\"border:none;\" seamless=\"seamless\" src=\"https://plot.ly/~japprcnj2/32.embed\" height=\"525px\" width=\"100%\"></iframe>"
      ],
      "text/plain": [
       "<plotly.tools.PlotlyDisplay object>"
      ]
     },
     "execution_count": 37,
     "metadata": {},
     "output_type": "execute_result"
    }
   ],
   "source": [
    "value_counts_1916 = pd.Series(word_freq_by_year_dict[\"1916\"]).value_counts()\n",
    "data1916 = [go.Bar(x=value_counts_1916.index,y=value_counts_1916.values)]\n",
    "layout1916 = go.Layout(title=\"Most Common Words 1916\",\n",
    "                xaxis=dict(title='Words'),\n",
    "                yaxis=dict(title='Number of Appearances in Text'))\n",
    "fig1916 = go.Figure(data=data1916, layout=layout1916)\n",
    "py.iplot(fig1916, filename='word_frequency_1916')"
   ]
  },
  {
   "cell_type": "code",
   "execution_count": 38,
   "metadata": {},
   "outputs": [
    {
     "data": {
      "text/html": [
       "<iframe id=\"igraph\" scrolling=\"no\" style=\"border:none;\" seamless=\"seamless\" src=\"https://plot.ly/~japprcnj2/34.embed\" height=\"525px\" width=\"100%\"></iframe>"
      ],
      "text/plain": [
       "<plotly.tools.PlotlyDisplay object>"
      ]
     },
     "execution_count": 38,
     "metadata": {},
     "output_type": "execute_result"
    }
   ],
   "source": [
    "value_counts_1917 = pd.Series(word_freq_by_year_dict[\"1917\"]).value_counts()\n",
    "data1917 = [go.Bar(x=value_counts_1917.index,y=value_counts_1917.values)]\n",
    "layout1917 = go.Layout(title=\"Most Common Words 1917\",\n",
    "                xaxis=dict(title='Words'),\n",
    "                yaxis=dict(title='Number of Appearances in Text'))\n",
    "fig1917 = go.Figure(data=data1917, layout=layout1917)\n",
    "py.iplot(fig1917, filename='word_frequency_1917')"
   ]
  },
  {
   "cell_type": "code",
   "execution_count": 39,
   "metadata": {},
   "outputs": [
    {
     "data": {
      "text/html": [
       "<iframe id=\"igraph\" scrolling=\"no\" style=\"border:none;\" seamless=\"seamless\" src=\"https://plot.ly/~japprcnj2/36.embed\" height=\"525px\" width=\"100%\"></iframe>"
      ],
      "text/plain": [
       "<plotly.tools.PlotlyDisplay object>"
      ]
     },
     "execution_count": 39,
     "metadata": {},
     "output_type": "execute_result"
    }
   ],
   "source": [
    "value_counts_1918 = pd.Series(word_freq_by_year_dict[\"1918\"]).value_counts()\n",
    "data1918 = [go.Bar(x=value_counts_1918.index,y=value_counts_1918.values)]\n",
    "layout1918 = go.Layout(title=\"Most Common Words 1918\",\n",
    "                xaxis=dict(title='Words'),\n",
    "                yaxis=dict(title='Number of Appearances in Text'))\n",
    "fig1918 = go.Figure(data=data1918, layout=layout1918)\n",
    "py.iplot(fig1918, filename='word_frequency_1918')"
   ]
  },
  {
   "cell_type": "code",
   "execution_count": 40,
   "metadata": {},
   "outputs": [
    {
     "data": {
      "text/html": [
       "<iframe id=\"igraph\" scrolling=\"no\" style=\"border:none;\" seamless=\"seamless\" src=\"https://plot.ly/~japprcnj2/38.embed\" height=\"525px\" width=\"100%\"></iframe>"
      ],
      "text/plain": [
       "<plotly.tools.PlotlyDisplay object>"
      ]
     },
     "execution_count": 40,
     "metadata": {},
     "output_type": "execute_result"
    }
   ],
   "source": [
    "value_counts_1919 = pd.Series(word_freq_by_year_dict[\"1919\"]).value_counts()\n",
    "data1919 = [go.Bar(x=value_counts_1919.index,y=value_counts_1919.values)]\n",
    "layout1919 = go.Layout(title=\"Most Common Words 1919\",\n",
    "                xaxis=dict(title='Words'),\n",
    "                yaxis=dict(title='Number of Appearances in Text'))\n",
    "fig1919 = go.Figure(data=data1919, layout=layout1919)\n",
    "py.iplot(fig1919, filename='word_frequency_1919')"
   ]
  },
  {
   "cell_type": "code",
   "execution_count": 41,
   "metadata": {},
   "outputs": [
    {
     "data": {
      "text/html": [
       "<iframe id=\"igraph\" scrolling=\"no\" style=\"border:none;\" seamless=\"seamless\" src=\"https://plot.ly/~japprcnj2/40.embed\" height=\"525px\" width=\"100%\"></iframe>"
      ],
      "text/plain": [
       "<plotly.tools.PlotlyDisplay object>"
      ]
     },
     "execution_count": 41,
     "metadata": {},
     "output_type": "execute_result"
    }
   ],
   "source": [
    "value_counts_1920 = pd.Series(word_freq_by_year_dict[\"1920\"]).value_counts()\n",
    "data1920 = [go.Bar(x=value_counts_1920.index,y=value_counts_1920.values)]\n",
    "layout1920 = go.Layout(title=\"Most Common Words 1920\",\n",
    "                xaxis=dict(title='Words'),\n",
    "                yaxis=dict(title='Number of Appearances in Text'))\n",
    "fig1920 = go.Figure(data=data1920, layout=layout1920)\n",
    "py.iplot(fig1920, filename='word_frequency_1920')"
   ]
  },
  {
   "cell_type": "code",
   "execution_count": 42,
   "metadata": {},
   "outputs": [
    {
     "data": {
      "text/html": [
       "<iframe id=\"igraph\" scrolling=\"no\" style=\"border:none;\" seamless=\"seamless\" src=\"https://plot.ly/~japprcnj2/42.embed\" height=\"525px\" width=\"100%\"></iframe>"
      ],
      "text/plain": [
       "<plotly.tools.PlotlyDisplay object>"
      ]
     },
     "execution_count": 42,
     "metadata": {},
     "output_type": "execute_result"
    }
   ],
   "source": [
    "value_counts_1921 = pd.Series(word_freq_by_year_dict[\"1921\"]).value_counts()\n",
    "data1921 = [go.Bar(x=value_counts_1921.index,y=value_counts_1921.values)]\n",
    "layout1921 = go.Layout(title=\"Most Common Words 1921\",\n",
    "                xaxis=dict(title='Words'),\n",
    "                yaxis=dict(title='Number of Appearances in Text'))\n",
    "fig1921 = go.Figure(data=data1921, layout=layout1921)\n",
    "py.iplot(fig1921, filename='word_frequency_1921')"
   ]
  },
  {
   "cell_type": "code",
   "execution_count": 43,
   "metadata": {},
   "outputs": [
    {
     "data": {
      "text/html": [
       "<iframe id=\"igraph\" scrolling=\"no\" style=\"border:none;\" seamless=\"seamless\" src=\"https://plot.ly/~japprcnj2/44.embed\" height=\"525px\" width=\"100%\"></iframe>"
      ],
      "text/plain": [
       "<plotly.tools.PlotlyDisplay object>"
      ]
     },
     "execution_count": 43,
     "metadata": {},
     "output_type": "execute_result"
    }
   ],
   "source": [
    "value_counts_1922 = pd.Series(word_freq_by_year_dict[\"1922\"]).value_counts()\n",
    "data1922 = [go.Bar(x=value_counts_1922.index,y=value_counts_1922.values)]\n",
    "layout1922 = go.Layout(title=\"Most Common Words 1922\",\n",
    "                xaxis=dict(title='Words'),\n",
    "                yaxis=dict(title='Number of Appearances in Text'))\n",
    "fig1922 = go.Figure(data=data1922, layout=layout1922)\n",
    "py.iplot(fig1922, filename='word_frequency_1922')"
   ]
  },
  {
   "cell_type": "code",
   "execution_count": 44,
   "metadata": {
    "scrolled": false
   },
   "outputs": [
    {
     "data": {
      "text/html": [
       "<iframe id=\"igraph\" scrolling=\"no\" style=\"border:none;\" seamless=\"seamless\" src=\"https://plot.ly/~japprcnj2/46.embed\" height=\"525px\" width=\"100%\"></iframe>"
      ],
      "text/plain": [
       "<plotly.tools.PlotlyDisplay object>"
      ]
     },
     "execution_count": 44,
     "metadata": {},
     "output_type": "execute_result"
    }
   ],
   "source": [
    "value_counts_1923 = pd.Series(word_freq_by_year_dict[\"1923\"]).value_counts()\n",
    "data1923 = [go.Bar(x=value_counts_1923.index,y=value_counts_1923.values)]\n",
    "layout1923 = go.Layout(title=\"Most Common Words 1923\",\n",
    "                xaxis=dict(title='Words'),\n",
    "                yaxis=dict(title='Number of Appearances in Text'))\n",
    "fig1923 = go.Figure(data=data1923, layout=layout1923)\n",
    "py.iplot(fig1923, filename='word_frequency_1923')"
   ]
  },
  {
   "cell_type": "code",
   "execution_count": 92,
   "metadata": {},
   "outputs": [
    {
     "data": {
      "text/plain": [
       "'<iframe id=\"igraph\" scrolling=\"no\" style=\"border:none;\" seamless=\"seamless\" src=\"https://plot.ly/~japprcnj2/2.embed\" height=\"525\" width=\"100%\"></iframe>'"
      ]
     },
     "execution_count": 92,
     "metadata": {},
     "output_type": "execute_result"
    }
   ],
   "source": [
    "import plotly.tools as tls\n",
    "\n",
    "tls.get_embed('https://plot.ly/~japprcnj2/2')"
   ]
  },
  {
   "cell_type": "code",
   "execution_count": 21,
   "metadata": {
    "collapsed": true
   },
   "outputs": [],
   "source": [
    "# value counts series for each year \n",
    "value_counts_1900 = pd.Series(word_freq_by_year_dict[\"1900\"]).value_counts()\n",
    "value_counts_1901 = pd.Series(word_freq_by_year_dict[\"1901\"]).value_counts()\n",
    "value_counts_1902 = pd.Series(word_freq_by_year_dict[\"1902\"]).value_counts()\n",
    "value_counts_1903 = pd.Series(word_freq_by_year_dict[\"1903\"]).value_counts()\n",
    "value_counts_1904 = pd.Series(word_freq_by_year_dict[\"1904\"]).value_counts()\n",
    "value_counts_1905 = pd.Series(word_freq_by_year_dict[\"1905\"]).value_counts()\n",
    "value_counts_1906 = pd.Series(word_freq_by_year_dict[\"1906\"]).value_counts()\n",
    "value_counts_1907 = pd.Series(word_freq_by_year_dict[\"1907\"]).value_counts()\n",
    "value_counts_1908 = pd.Series(word_freq_by_year_dict[\"1908\"]).value_counts()\n",
    "value_counts_1909 = pd.Series(word_freq_by_year_dict[\"1909\"]).value_counts()\n",
    "value_counts_1910 = pd.Series(word_freq_by_year_dict[\"1910\"]).value_counts()\n",
    "value_counts_1911 = pd.Series(word_freq_by_year_dict[\"1911\"]).value_counts()\n",
    "value_counts_1912 = pd.Series(word_freq_by_year_dict[\"1912\"]).value_counts()\n",
    "value_counts_1913 = pd.Series(word_freq_by_year_dict[\"1913\"]).value_counts()\n",
    "value_counts_1914 = pd.Series(word_freq_by_year_dict[\"1914\"]).value_counts()\n",
    "value_counts_1915 = pd.Series(word_freq_by_year_dict[\"1915\"]).value_counts()\n",
    "value_counts_1916 = pd.Series(word_freq_by_year_dict[\"1916\"]).value_counts()\n",
    "value_counts_1917 = pd.Series(word_freq_by_year_dict[\"1917\"]).value_counts()\n",
    "value_counts_1918 = pd.Series(word_freq_by_year_dict[\"1918\"]).value_counts()\n",
    "value_counts_1919 = pd.Series(word_freq_by_year_dict[\"1919\"]).value_counts()\n",
    "value_counts_1920 = pd.Series(word_freq_by_year_dict[\"1920\"]).value_counts()\n",
    "value_counts_1921 = pd.Series(word_freq_by_year_dict[\"1921\"]).value_counts()\n",
    "value_counts_1922 = pd.Series(word_freq_by_year_dict[\"1922\"]).value_counts()\n",
    "value_counts_1923 = pd.Series(word_freq_by_year_dict[\"1923\"]).value_counts()"
   ]
  },
  {
   "cell_type": "code",
   "execution_count": 22,
   "metadata": {
    "collapsed": true
   },
   "outputs": [],
   "source": [
    "value_counts_series_list = []\n",
    "value_counts_series_list.append(value_counts_1900)\n",
    "value_counts_series_list.append(value_counts_1901)\n",
    "value_counts_series_list.append(value_counts_1902)\n",
    "value_counts_series_list.append(value_counts_1903)\n",
    "value_counts_series_list.append(value_counts_1904)\n",
    "value_counts_series_list.append(value_counts_1905)\n",
    "value_counts_series_list.append(value_counts_1906)\n",
    "value_counts_series_list.append(value_counts_1907)\n",
    "value_counts_series_list.append(value_counts_1908)\n",
    "value_counts_series_list.append(value_counts_1909)\n",
    "value_counts_series_list.append(value_counts_1910)\n",
    "value_counts_series_list.append(value_counts_1911)\n",
    "value_counts_series_list.append(value_counts_1912)\n",
    "value_counts_series_list.append(value_counts_1913)\n",
    "value_counts_series_list.append(value_counts_1914)\n",
    "value_counts_series_list.append(value_counts_1915)\n",
    "value_counts_series_list.append(value_counts_1916)\n",
    "value_counts_series_list.append(value_counts_1917)\n",
    "value_counts_series_list.append(value_counts_1918)\n",
    "value_counts_series_list.append(value_counts_1919)\n",
    "value_counts_series_list.append(value_counts_1920)\n",
    "value_counts_series_list.append(value_counts_1921)\n",
    "value_counts_series_list.append(value_counts_1922)\n",
    "value_counts_series_list.append(value_counts_1923)"
   ]
  },
  {
   "cell_type": "code",
   "execution_count": 37,
   "metadata": {
    "collapsed": true
   },
   "outputs": [],
   "source": [
    "def generate_word_freq_over_time(word):\n",
    "    word_freq_over_time = {} #dict where key:value is year:count\n",
    "    year = 1900\n",
    "    for vc_list in value_counts_series_list:\n",
    "        try: \n",
    "            word_freq_over_time[year] = vc_list[word] \n",
    "        except: \n",
    "            word_freq_over_time[year] = 0\n",
    "        year = year + 1\n",
    "    return word_freq_over_time"
   ]
  },
  {
   "cell_type": "code",
   "execution_count": 38,
   "metadata": {
    "collapsed": true
   },
   "outputs": [],
   "source": [
    "def generate_rel_freq_over_time(word):\n",
    "    word_freq_over_time = {} #dict where key:value is year:rel freq \n",
    "    year = 1900\n",
    "    for vc_list in value_counts_series_list:\n",
    "        try: \n",
    "            word_freq_over_time[year] = vc_list[word] / len(word_freq_by_year_dict[year])\n",
    "        except: \n",
    "            word_freq_over_time[year] = 0\n",
    "        year = year + 1\n",
    "    return word_freq_over_time"
   ]
  },
  {
   "cell_type": "code",
   "execution_count": 24,
   "metadata": {
    "collapsed": true
   },
   "outputs": [],
   "source": [
    "flattened_text_list = []\n",
    "for x in item_df[\"text\"]:\n",
    "    flattened_text_list.extend(x)"
   ]
  },
  {
   "cell_type": "code",
   "execution_count": 25,
   "metadata": {
    "collapsed": true
   },
   "outputs": [],
   "source": [
    "#for testing \n",
    "one_thousand_words = pd.Series(flattened_text_list).value_counts()[:1000]\n",
    "ten_words = pd.Series(flattened_text_list).value_counts()[:10]"
   ]
  },
  {
   "cell_type": "code",
   "execution_count": 26,
   "metadata": {
    "collapsed": true
   },
   "outputs": [],
   "source": [
    "word = ten_words.keys()[0]\n",
    "result = generate_word_freq_over_time(word)\n",
    "result = pd.Series(result)"
   ]
  },
  {
   "cell_type": "code",
   "execution_count": 48,
   "metadata": {
    "collapsed": true
   },
   "outputs": [],
   "source": [
    "data = []\n",
    "for word in ten_words.keys()[:3]:\n",
    "    result = generate_word_freq_over_time(word)\n",
    "    trace = go.Scatter(\n",
    "        x = list(result.keys()),\n",
    "        y = list(result.values()),\n",
    "        name = word\n",
    "    )\n",
    "    data.append(trace)"
   ]
  },
  {
   "cell_type": "code",
   "execution_count": 50,
   "metadata": {
    "collapsed": true
   },
   "outputs": [],
   "source": [
    "updatemenus = list([\n",
    "    dict(active=-1,\n",
    "         buttons=list([   \n",
    "            dict(label = data[0][\"name\"],\n",
    "                 method = 'update',\n",
    "                 args = [{'visible': [True, False, False]},\n",
    "                         {'title': data[0][\"name\"]}]),\n",
    "            dict(label = data[1][\"name\"],\n",
    "                 method = 'update',\n",
    "                 args = [{'visible': [False, True, False]},\n",
    "                         {'title': data[1][\"name\"]}]),\n",
    "            dict(label = data[2][\"name\"],\n",
    "                 method = 'update',\n",
    "                 args = [{'visible': [False, False, True]},\n",
    "                         {'title': data[2][\"name\"]}])\n",
    "        ])\n",
    "    )\n",
    "])"
   ]
  },
  {
   "cell_type": "code",
   "execution_count": 51,
   "metadata": {},
   "outputs": [
    {
     "data": {
      "text/html": [
       "<iframe id=\"igraph\" scrolling=\"no\" style=\"border:none;\" seamless=\"seamless\" src=\"https://plot.ly/~japprcnj2/52.embed\" height=\"525px\" width=\"100%\"></iframe>"
      ],
      "text/plain": [
       "<plotly.tools.PlotlyDisplay object>"
      ]
     },
     "execution_count": 51,
     "metadata": {},
     "output_type": "execute_result"
    }
   ],
   "source": [
    "layout = go.Layout(title=word,\n",
    "            xaxis=dict(title='Year'),\n",
    "            yaxis=dict(title='Frequency of Use'), updatemenus=updatemenus)\n",
    "fig = go.Figure(data=data, layout=layout)\n",
    "py.iplot(fig, filename=\"word\")"
   ]
  },
  {
   "cell_type": "code",
   "execution_count": 76,
   "metadata": {
    "scrolled": true
   },
   "outputs": [
    {
     "data": {
      "text/html": [
       "<div>\n",
       "<style scoped>\n",
       "    .dataframe tbody tr th:only-of-type {\n",
       "        vertical-align: middle;\n",
       "    }\n",
       "\n",
       "    .dataframe tbody tr th {\n",
       "        vertical-align: top;\n",
       "    }\n",
       "\n",
       "    .dataframe thead th {\n",
       "        text-align: right;\n",
       "    }\n",
       "</style>\n",
       "<table border=\"1\" class=\"dataframe\">\n",
       "  <thead>\n",
       "    <tr style=\"text-align: right;\">\n",
       "      <th></th>\n",
       "      <th>creator</th>\n",
       "      <th>date</th>\n",
       "      <th>id</th>\n",
       "      <th>tags</th>\n",
       "      <th>text</th>\n",
       "      <th>title</th>\n",
       "      <th>type</th>\n",
       "      <th>bigrams</th>\n",
       "      <th>year</th>\n",
       "    </tr>\n",
       "  </thead>\n",
       "  <tbody>\n",
       "    <tr>\n",
       "      <th>0</th>\n",
       "      <td>Addams, Jane</td>\n",
       "      <td>1907-09-05</td>\n",
       "      <td>17</td>\n",
       "      <td>[Industry, Labor, Writings]</td>\n",
       "      <td>[effect, familiarity, jane, addams, hard, fami...</td>\n",
       "      <td>Effect of Familiarity, September 5, 1907</td>\n",
       "      <td>[article]</td>\n",
       "      <td>[(effect, familiarity), (familiarity, jane), (...</td>\n",
       "      <td>1907</td>\n",
       "    </tr>\n",
       "    <tr>\n",
       "      <th>1</th>\n",
       "      <td>Addams, Jane</td>\n",
       "      <td>1906-02-01</td>\n",
       "      <td>18</td>\n",
       "      <td>[Education, Immigrants, Lectures]</td>\n",
       "      <td>[elective, appointive, school, board, jane, ad...</td>\n",
       "      <td>Elective or Appointive School Board, February ...</td>\n",
       "      <td>[speech]</td>\n",
       "      <td>[(elective, appointive), (appointive, school),...</td>\n",
       "      <td>1906</td>\n",
       "    </tr>\n",
       "    <tr>\n",
       "      <th>2</th>\n",
       "      <td>Addams, Jane</td>\n",
       "      <td>1914-01-31</td>\n",
       "      <td>19</td>\n",
       "      <td>[Travels, Writings]</td>\n",
       "      <td>[hullhouse, south, halsted, street, chicago, j...</td>\n",
       "      <td>Jane Addams to James Henry Breasted, January 3...</td>\n",
       "      <td>[letter]</td>\n",
       "      <td>[(hullhouse, south), (south, halsted), (halste...</td>\n",
       "      <td>1914</td>\n",
       "    </tr>\n",
       "    <tr>\n",
       "      <th>3</th>\n",
       "      <td>Addams, Jane</td>\n",
       "      <td>1901-01-10</td>\n",
       "      <td>48</td>\n",
       "      <td>[Writing]</td>\n",
       "      <td>[delano, burlington, iowa, jany, dear, ely, at...</td>\n",
       "      <td>Jane Addams to Richard T. Ely, January 10, 1901</td>\n",
       "      <td>[letter]</td>\n",
       "      <td>[(delano, burlington), (burlington, iowa), (io...</td>\n",
       "      <td>1901</td>\n",
       "    </tr>\n",
       "    <tr>\n",
       "      <th>4</th>\n",
       "      <td>Addams, Jane</td>\n",
       "      <td>1901-01-10</td>\n",
       "      <td>49</td>\n",
       "      <td>[Books, Family]</td>\n",
       "      <td>[hullhouse, south, halsted, street, chicago, j...</td>\n",
       "      <td>Jane Addams to Sarah Alice Addams Haldeman, Ja...</td>\n",
       "      <td>[letter]</td>\n",
       "      <td>[(hullhouse, south), (south, halsted), (halste...</td>\n",
       "      <td>1901</td>\n",
       "    </tr>\n",
       "  </tbody>\n",
       "</table>\n",
       "</div>"
      ],
      "text/plain": [
       "        creator        date  id                               tags  \\\n",
       "0  Addams, Jane  1907-09-05  17        [Industry, Labor, Writings]   \n",
       "1  Addams, Jane  1906-02-01  18  [Education, Immigrants, Lectures]   \n",
       "2  Addams, Jane  1914-01-31  19                [Travels, Writings]   \n",
       "3  Addams, Jane  1901-01-10  48                          [Writing]   \n",
       "4  Addams, Jane  1901-01-10  49                    [Books, Family]   \n",
       "\n",
       "                                                text  \\\n",
       "0  [effect, familiarity, jane, addams, hard, fami...   \n",
       "1  [elective, appointive, school, board, jane, ad...   \n",
       "2  [hullhouse, south, halsted, street, chicago, j...   \n",
       "3  [delano, burlington, iowa, jany, dear, ely, at...   \n",
       "4  [hullhouse, south, halsted, street, chicago, j...   \n",
       "\n",
       "                                               title       type  \\\n",
       "0           Effect of Familiarity, September 5, 1907  [article]   \n",
       "1  Elective or Appointive School Board, February ...   [speech]   \n",
       "2  Jane Addams to James Henry Breasted, January 3...   [letter]   \n",
       "3    Jane Addams to Richard T. Ely, January 10, 1901   [letter]   \n",
       "4  Jane Addams to Sarah Alice Addams Haldeman, Ja...   [letter]   \n",
       "\n",
       "                                             bigrams  year  \n",
       "0  [(effect, familiarity), (familiarity, jane), (...  1907  \n",
       "1  [(elective, appointive), (appointive, school),...  1906  \n",
       "2  [(hullhouse, south), (south, halsted), (halste...  1914  \n",
       "3  [(delano, burlington), (burlington, iowa), (io...  1901  \n",
       "4  [(hullhouse, south), (south, halsted), (halste...  1901  "
      ]
     },
     "execution_count": 76,
     "metadata": {},
     "output_type": "execute_result"
    }
   ],
   "source": [
    "item_df.head()"
   ]
  },
  {
   "cell_type": "code",
   "execution_count": 78,
   "metadata": {},
   "outputs": [
    {
     "data": {
      "text/plain": [
       "3189"
      ]
     },
     "execution_count": 78,
     "metadata": {},
     "output_type": "execute_result"
    }
   ],
   "source": [
    "jane_item_df = item_df[item_df[\"creator\"] == \"Addams, Jane\"]\n",
    "len(jane_item_df)"
   ]
  },
  {
   "cell_type": "code",
   "execution_count": 81,
   "metadata": {},
   "outputs": [
    {
     "data": {
      "text/plain": [
       "Addams, Jane                                              3189\n",
       "Kellogg, Paul Underwood                                    108\n",
       "Karsten, Eleanor Daggett                                   100\n",
       "Addams, Jane                                                98\n",
       "Macmillan Company                                           70\n",
       "Post, Alice Thacher                                         45\n",
       "Schwimmer, Rosika                                           42\n",
       "Thomas, Harriet Park                                        41\n",
       "Ely, Richard T.                                             39\n",
       "Lochner, Louis Paul                                         37\n",
       "Balch, Emily Greene                                         36\n",
       "Manus, Rosa                                                 32\n",
       "Hyers, Mabel L.                                             31\n",
       "Mead, Lucia Ames                                            31\n",
       "Lindsey, Ben B.                                             29\n",
       "Breckinridge, Sophonisba P.                                 27\n",
       "Taylor, Graham                                              24\n",
       "Jones, Jenkin Lloyd                                         24\n",
       "Wald, Lillian D.                                            24\n",
       "Roosevelt, Theodore                                         24\n",
       "Kellor, Frances A.                                          22\n",
       "Unknown                                                     22\n",
       "Haldeman-Julius, Anna Marcet                                21\n",
       "Van Winkle, Mina                                            20\n",
       "Andrews, Irene Osgood                                       20\n",
       "Jordan, David Starr                                         20\n",
       "Wilson, Woodrow                                             20\n",
       "Smith, Mary Rozet                                           20\n",
       "Wales, Julia Grace                                          20\n",
       "Thomas, M. Carey                                            19\n",
       "                                                          ... \n",
       "Yeomans, Charles                                             1\n",
       "Doerschuk, Anna Beatrice                                     1\n",
       "Spiller, Gustav                                              1\n",
       "Bradley, Nelson Samuel                                       1\n",
       "Draper, Bell Merrill                                         1\n",
       "Saginaw County Equal Suffrage Association                    1\n",
       "Rolland, Romain                                              1\n",
       "Cratty, John Mason                                           1\n",
       "Wilkins, Edward H.                                           1\n",
       "Yokoyama, T.                                                 1\n",
       "McDowell, Mary E.                                            1\n",
       "Kaufman, Matthias S.                                         1\n",
       "Halbert, Hugh T.                                             1\n",
       "Trout, Wilbur Grace                                          1\n",
       "Marot, Mary Louise                                           1\n",
       "La Follette, Robert M.                                       1\n",
       "Committee of One Hundred                                     1\n",
       "Higginson, Thomas Wentworth                                  1\n",
       "International Committee of Women for a Permanent Peace       1\n",
       "Wile, Joseph M.                                              1\n",
       "Graves, Rebecca                                              1\n",
       "Lewis, James Hamilton                                        1\n",
       "Palmer, Robert Stafford Arthur                               1\n",
       "Welty, Dora Rauch                                            1\n",
       "Dean, William H.                                             1\n",
       "Post, Alice Thatcher                                         1\n",
       "Giffin, Fred R.                                              1\n",
       "Miller, William                                              1\n",
       "Lighty, William, H.                                          1\n",
       "Parker, Eleanor W.                                           1\n",
       "Name: creator, Length: 2236, dtype: int64"
      ]
     },
     "execution_count": 81,
     "metadata": {},
     "output_type": "execute_result"
    }
   ],
   "source": [
    "item_df[\"creator\"].value_counts()"
   ]
  },
  {
   "cell_type": "code",
   "execution_count": 80,
   "metadata": {},
   "outputs": [
    {
     "data": {
      "text/plain": [
       "1"
      ]
     },
     "execution_count": 80,
     "metadata": {},
     "output_type": "execute_result"
    }
   ],
   "source": [
    "Kellogg, Paul Underwood"
   ]
  },
  {
   "cell_type": "markdown",
   "metadata": {
    "collapsed": true
   },
   "source": [
    "## sentiment analysis"
   ]
  },
  {
   "cell_type": "markdown",
   "metadata": {},
   "source": [
    "can talk about how we weren't really getting any meaningful results - nothing interesting enough on a large scale that added valuable information "
   ]
  },
  {
   "cell_type": "code",
   "execution_count": 25,
   "metadata": {
    "scrolled": true
   },
   "outputs": [
    {
     "name": "stdout",
     "output_type": "stream",
     "text": [
      "[nltk_data] Downloading package vader_lexicon to\n",
      "[nltk_data]     /Users/catieo/nltk_data...\n",
      "[nltk_data]   Package vader_lexicon is already up-to-date!\n"
     ]
    },
    {
     "data": {
      "text/plain": [
       "True"
      ]
     },
     "execution_count": 25,
     "metadata": {},
     "output_type": "execute_result"
    }
   ],
   "source": [
    "nltk.download('vader_lexicon')"
   ]
  },
  {
   "cell_type": "code",
   "execution_count": 26,
   "metadata": {},
   "outputs": [
    {
     "name": "stderr",
     "output_type": "stream",
     "text": [
      "/anaconda/lib/python3.6/site-packages/nltk/twitter/__init__.py:20: UserWarning:\n",
      "\n",
      "The twython library has not been installed. Some functionality from the twitter package will not be available.\n",
      "\n"
     ]
    }
   ],
   "source": [
    "from nltk.sentiment.vader import SentimentIntensityAnalyzer\n",
    "sent_analyzer = SentimentIntensityAnalyzer()\n",
    "def sentiment_scores(docx):\n",
    "    return sent_analyzer.polarity_scores(docx.text)"
   ]
  },
  {
   "cell_type": "code",
   "execution_count": 27,
   "metadata": {
    "collapsed": true
   },
   "outputs": [],
   "source": [
    "nlp = spacy.load('en')\n",
    "from spacy.tokens import Doc\n",
    "Doc.set_extension(\"sentimenter\",getter=sentiment_scores)"
   ]
  },
  {
   "cell_type": "code",
   "execution_count": 48,
   "metadata": {
    "collapsed": true
   },
   "outputs": [],
   "source": [
    "sep = \" \"\n",
    "test_sent = sep.join(item_df[\"text\"][1])"
   ]
  },
  {
   "cell_type": "code",
   "execution_count": 50,
   "metadata": {},
   "outputs": [
    {
     "data": {
      "text/plain": [
       "{'compound': 1.0, 'neg': 0.096, 'neu': 0.691, 'pos': 0.213}"
      ]
     },
     "execution_count": 50,
     "metadata": {},
     "output_type": "execute_result"
    }
   ],
   "source": [
    "nlp(test_sent)._.sentimenter"
   ]
  },
  {
   "cell_type": "markdown",
   "metadata": {},
   "source": [
    "I think it's -1 to 1 but that doesn't really make sense here? also takes a really long time to run. It looks like compound is also 1.0, which isn't really helpful, but the other values are fluctuating so maybe could do something with that"
   ]
  },
  {
   "cell_type": "markdown",
   "metadata": {},
   "source": [
    "or we could try this guy: "
   ]
  },
  {
   "cell_type": "code",
   "execution_count": null,
   "metadata": {
    "collapsed": true
   },
   "outputs": [],
   "source": [
    "# returns \"positive\", \"negative\" or \"neutral\" \n",
    "def sentiment_analysis(text):\n",
    "  base_url = \"http://api.datumbox.com/1.0/SentimentAnalysis.json\"\n",
    "  url_params = { \"api_key\" : '6e08fe05ac351af94c7d4b625385e703', \"text\" : text }\n",
    "  response = requests.get(base_url, url_params)\n",
    "  result = json.loads(response.text)\n",
    "  return result[\"output\"][\"result\"]"
   ]
  }
 ],
 "metadata": {
  "kernelspec": {
   "display_name": "Python 3",
   "language": "python",
   "name": "python3"
  },
  "language_info": {
   "codemirror_mode": {
    "name": "ipython",
    "version": 3
   },
   "file_extension": ".py",
   "mimetype": "text/x-python",
   "name": "python",
   "nbconvert_exporter": "python",
   "pygments_lexer": "ipython3",
   "version": "3.6.8"
  }
 },
 "nbformat": 4,
 "nbformat_minor": 2
}
