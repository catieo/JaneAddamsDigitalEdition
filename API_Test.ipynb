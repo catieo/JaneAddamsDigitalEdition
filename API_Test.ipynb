{
 "cells": [
  {
   "cell_type": "code",
   "execution_count": 120,
   "metadata": {},
   "outputs": [],
   "source": [
    "import requests\n",
    "import json\n",
    "import pandas as pd\n",
    "import re"
   ]
  },
  {
   "cell_type": "code",
   "execution_count": 121,
   "metadata": {},
   "outputs": [],
   "source": [
    "api_key = 'f0f8be8d318201330fe3f845c883fa9f45ac014f'"
   ]
  },
  {
   "cell_type": "code",
   "execution_count": 122,
   "metadata": {},
   "outputs": [],
   "source": [
    "events_cache_fname = 'JaneAddams_Events.json'"
   ]
  },
  {
   "cell_type": "code",
   "execution_count": 123,
   "metadata": {},
   "outputs": [],
   "source": [
    "# try:\n",
    "# \tcache_file_obj = open(events_cache_fname,'r')\n",
    "# \tcache_contents = cache_file_obj.read()\n",
    "# \tCACHE_DICTION = json.loads(cache_contents)\n",
    "# except:\n",
    "# \tCACHE_DICTION = {}\n",
    "\n",
    "# def canonical_order(d):\n",
    "#     alphabetized_keys = sorted(d.keys())\n",
    "#     res = []\n",
    "#     for k in alphabetized_keys:\n",
    "#         res.append((k, d[k]))\n",
    "#     return res\n",
    "\n"
   ]
  },
  {
   "cell_type": "code",
   "execution_count": 124,
   "metadata": {},
   "outputs": [],
   "source": [
    "resources_avail = requests.get('https://digital.janeaddams.ramapo.edu/api/resources?pretty_print')"
   ]
  },
  {
   "cell_type": "code",
   "execution_count": 125,
   "metadata": {},
   "outputs": [],
   "source": [
    "params_d = {'item_type': 'Event', 'key': api_key}"
   ]
  },
  {
   "cell_type": "code",
   "execution_count": 126,
   "metadata": {},
   "outputs": [],
   "source": [
    "r_items = requests.get('https://digital.janeaddams.ramapo.edu/api/items?pretty_print', params = params_d)"
   ]
  },
  {
   "cell_type": "code",
   "execution_count": 127,
   "metadata": {},
   "outputs": [],
   "source": [
    "items_json = json.loads(r_items.text)"
   ]
  },
  {
   "cell_type": "code",
   "execution_count": 128,
   "metadata": {},
   "outputs": [],
   "source": [
    "#print(r_items.text)"
   ]
  },
  {
   "cell_type": "code",
   "execution_count": 129,
   "metadata": {},
   "outputs": [],
   "source": [
    "event_lst = []\n",
    "for dict in items_json:\n",
    "    event_lst.append(dict['element_texts'][0]['text'])\n",
    "    "
   ]
  },
  {
   "cell_type": "code",
   "execution_count": 130,
   "metadata": {},
   "outputs": [
    {
     "name": "stdout",
     "output_type": "stream",
     "text": [
      "['United States Presidential Election (1912)', 'Philippine-American War (1899-1902)', 'Conference on Truancy--Its Causes and Prevention  (1906)', 'University of Chicago Convocation (1904) ', 'Annual Conference for the Study of the Negro Problems (Tenth) (1905)', 'American Home Economics Association Lake Placid Conference (Fifth) (1903)', 'United Mine Workers Coal Strike (1902)', 'Annual Convention of the American Federation of Labor (Twenty-First) (1901)', \"World's Fair: Louisiana Purchase Exposition (1904)\", 'Universal Peace Congress (Thirteenth) (1904)', 'Universal Races Congress (First) (1911)', 'Annual Conference for the Study of the Negro Problems (Fourteenth) (1909)', 'Illinois Conference of Charities and Correction (1907)', 'Averbuch Incident (1908)', 'Chicago Stockyard Strike (1904)', 'International Congress of Arts and Sciences, (1904)', \"Chicago Teamsters' Strike (1905)\", 'National Arbitration and Peace Congress (1907)', 'Annual Conference for the Study of the Negro Problems (Thirteenth) (1908)', 'National Peace Congress (Second) (1909)', 'Rudowitz Conference (1908)', 'Haymarket Riot (1886)', 'Chicago Industrial Exhibit (1907)', 'National American Woman Suffrage Convention (1907)', 'Hague Convention (Second) (1907)', 'United States Civil War (1861-1865)', 'National American Woman Suffrage Convention (1903)', 'Progressive Party Convention (1912)', \"Chicago Garment Workers' Strike, 1910\", 'Russian Revolution (1905)', 'Chicago Child Welfare Exhibit (1911)', \"World's Fair: Columbian Exposition (1893)\", 'Annual Conference of the National Association for the Advancement of Colored People (Fourth) (1912)', 'International Congress of Women (1915)', 'World Anti-Slavery Convention (1840)', 'Congress of the Men and Religion Forward Movement (1912)', 'Trojan Women National Tour (1915)', 'Club Girls Council (1915)', 'Peace Ship (1915-1916)', 'Neutral Conference for Continuous Mediation (1916)', 'Republican National Convention (1912)', 'Mississippi Valley Conference ', 'Sinking of the Lusitania, 1915', 'Civic Welfare Exhibit (1912)', 'Illinois Child Labor Law (1903)', 'Pullman Strike (1894)', 'National American Woman Suffrage Convention (1913)', 'White House Conference on the Care of Dependent Children (1909)', 'Lawrence Textile Strike (1912)', 'Panama-Pacific International Exposition (1915)']\n"
     ]
    }
   ],
   "source": [
    "print(event_lst)"
   ]
  },
  {
   "cell_type": "code",
   "execution_count": 131,
   "metadata": {},
   "outputs": [],
   "source": [
    "tag_list = []\n",
    "for dict in items_json:\n",
    "    temp_list = []\n",
    "    for d in dict['tags']:\n",
    "        temp_list.append(d['name'])\n",
    "    tag_list.append(temp_list)"
   ]
  },
  {
   "cell_type": "code",
   "execution_count": 132,
   "metadata": {},
   "outputs": [
    {
     "name": "stdout",
     "output_type": "stream",
     "text": [
      "[['Democratic Party', 'Politics', 'Progressive Party', 'Republican Party', 'Socialism'], ['Philippines', 'War'], ['Conferences', 'Education', 'Law'], ['Education', 'Immigration', 'Lectures'], ['African-Americans', 'Conferences'], ['Conferences', 'Home Economics'], ['Labor'], ['Conferences', 'Labor'], ['Celebrations'], ['Conferences', 'Peace'], ['Conferences', 'England', 'Ethics', 'Race'], ['African-Americans', 'Civil Rights', 'Conferences', 'Racism'], ['Charity', 'Conferences', 'Illinois'], ['Chicago', 'Crime', 'Government', 'Immigrants'], ['Chicago', 'Labor'], ['Conferences'], ['Chicago', 'Labor'], ['Conferences', 'Peace', 'War'], ['African-Americans', 'Conferences', 'Racism'], ['Chicago', 'Conferences', 'Peace'], ['Immigrants', 'Russia'], ['Chicago', 'Crime Enforcement', 'Immigrants', 'Labor'], ['Chicago', 'Labor'], ['Conferences', 'Woman Suffrage'], ['Conferences', 'Peace'], ['War'], ['Conferences', 'Woman Suffrage'], ['Conferences', 'Politics', 'Progressive Party'], ['Chicago', 'Labor', \"Women's Rights\"], ['Politics', 'Russia'], ['Child Welfare', 'Conferences'], ['Celebrations', 'Chicago', 'Internationalism', 'Patriotism'], ['African-Americans', 'Chicago', 'Conferences', 'Meetings', 'Social Reform'], ['Meetings', 'Peace', 'War'], ['Conferences'], ['Conferences', 'Men', 'Religion'], ['Peace', 'Theater'], ['Children', 'Conferences'], ['Conferences', 'Diplomacy', 'Peace', 'War', 'World War I'], ['Conferences', 'Peace', 'World War I'], ['Chicago', 'Politics', 'Republican Party'], ['Chicago', 'Conferences', 'Woman Suffrage'], ['England', 'Germany', 'Politics', 'War', 'World War I'], ['Chicago', 'Education', 'Immigrants'], ['Child Labor', 'Law', 'Legislation', 'Progressive'], ['Business', 'Labor'], ['Conferences', 'Woman Suffrage'], ['Child Welfare', 'Conferences', 'Government'], ['Business', 'Labor'], ['Conferences']]\n"
     ]
    }
   ],
   "source": [
    "print(tag_list)"
   ]
  },
  {
   "cell_type": "code",
   "execution_count": 153,
   "metadata": {},
   "outputs": [],
   "source": [
    "dates_list = []\n",
    "for item in event_lst:\n",
    "    date= re.findall('\\(([0-9\\-)]+)', item)\n",
    "    for num in date:\n",
    "        dates_list.append(num.replace(\")\", \"\"))"
   ]
  },
  {
   "cell_type": "code",
   "execution_count": 154,
   "metadata": {},
   "outputs": [
    {
     "name": "stdout",
     "output_type": "stream",
     "text": [
      "['1912', '1899-1902', '1906', '1904', '1905', '1903', '1902', '1901', '1904', '1904', '1911', '1909', '1907', '1908', '1904', '1904', '1905', '1907', '1908', '1909', '1908', '1886', '1907', '1907', '1907', '1861-1865', '1903', '1912', '1905', '1911', '1893', '1912', '1915', '1840', '1912', '1915', '1915', '1915-1916', '1916', '1912', '1912', '1903', '1894', '1913', '1909', '1912', '1915']\n"
     ]
    }
   ],
   "source": [
    "print(dates_list)"
   ]
  },
  {
   "cell_type": "code",
   "execution_count": 146,
   "metadata": {},
   "outputs": [
    {
     "name": "stdout",
     "output_type": "stream",
     "text": [
      "<class 'list'>\n"
     ]
    }
   ],
   "source": []
  },
  {
   "cell_type": "code",
   "execution_count": 156,
   "metadata": {},
   "outputs": [],
   "source": [
    "zip_events = list(zip(event_lst, tag_list, dates_list))"
   ]
  },
  {
   "cell_type": "code",
   "execution_count": 157,
   "metadata": {},
   "outputs": [],
   "source": [
    "events_df = pd.DataFrame(zip_events, columns = ['Event Name', 'Tags', 'Date']) "
   ]
  },
  {
   "cell_type": "code",
   "execution_count": 158,
   "metadata": {},
   "outputs": [
    {
     "data": {
      "text/html": [
       "<div>\n",
       "<style scoped>\n",
       "    .dataframe tbody tr th:only-of-type {\n",
       "        vertical-align: middle;\n",
       "    }\n",
       "\n",
       "    .dataframe tbody tr th {\n",
       "        vertical-align: top;\n",
       "    }\n",
       "\n",
       "    .dataframe thead th {\n",
       "        text-align: right;\n",
       "    }\n",
       "</style>\n",
       "<table border=\"1\" class=\"dataframe\">\n",
       "  <thead>\n",
       "    <tr style=\"text-align: right;\">\n",
       "      <th></th>\n",
       "      <th>Event Name</th>\n",
       "      <th>Tags</th>\n",
       "      <th>Date</th>\n",
       "    </tr>\n",
       "  </thead>\n",
       "  <tbody>\n",
       "    <tr>\n",
       "      <th>0</th>\n",
       "      <td>United States Presidential Election (1912)</td>\n",
       "      <td>[Democratic Party, Politics, Progressive Party...</td>\n",
       "      <td>1912</td>\n",
       "    </tr>\n",
       "    <tr>\n",
       "      <th>1</th>\n",
       "      <td>Philippine-American War (1899-1902)</td>\n",
       "      <td>[Philippines, War]</td>\n",
       "      <td>1899-1902</td>\n",
       "    </tr>\n",
       "    <tr>\n",
       "      <th>2</th>\n",
       "      <td>Conference on Truancy--Its Causes and Preventi...</td>\n",
       "      <td>[Conferences, Education, Law]</td>\n",
       "      <td>1906</td>\n",
       "    </tr>\n",
       "    <tr>\n",
       "      <th>3</th>\n",
       "      <td>University of Chicago Convocation (1904)</td>\n",
       "      <td>[Education, Immigration, Lectures]</td>\n",
       "      <td>1904</td>\n",
       "    </tr>\n",
       "    <tr>\n",
       "      <th>4</th>\n",
       "      <td>Annual Conference for the Study of the Negro P...</td>\n",
       "      <td>[African-Americans, Conferences]</td>\n",
       "      <td>1905</td>\n",
       "    </tr>\n",
       "  </tbody>\n",
       "</table>\n",
       "</div>"
      ],
      "text/plain": [
       "                                          Event Name  \\\n",
       "0         United States Presidential Election (1912)   \n",
       "1                Philippine-American War (1899-1902)   \n",
       "2  Conference on Truancy--Its Causes and Preventi...   \n",
       "3          University of Chicago Convocation (1904)    \n",
       "4  Annual Conference for the Study of the Negro P...   \n",
       "\n",
       "                                                Tags       Date  \n",
       "0  [Democratic Party, Politics, Progressive Party...       1912  \n",
       "1                                 [Philippines, War]  1899-1902  \n",
       "2                      [Conferences, Education, Law]       1906  \n",
       "3                 [Education, Immigration, Lectures]       1904  \n",
       "4                   [African-Americans, Conferences]       1905  "
      ]
     },
     "execution_count": 158,
     "metadata": {},
     "output_type": "execute_result"
    }
   ],
   "source": [
    "events_df.head()"
   ]
  },
  {
   "cell_type": "code",
   "execution_count": null,
   "metadata": {},
   "outputs": [],
   "source": []
  }
 ],
 "metadata": {
  "kernelspec": {
   "display_name": "Python 3",
   "language": "python",
   "name": "python3"
  },
  "language_info": {
   "codemirror_mode": {
    "name": "ipython",
    "version": 3
   },
   "file_extension": ".py",
   "mimetype": "text/x-python",
   "name": "python",
   "nbconvert_exporter": "python",
   "pygments_lexer": "ipython3",
   "version": "3.6.5"
  }
 },
 "nbformat": 4,
 "nbformat_minor": 2
}
