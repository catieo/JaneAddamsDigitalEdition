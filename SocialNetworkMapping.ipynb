{
 "cells": [
  {
   "cell_type": "code",
   "execution_count": 1,
   "metadata": {},
   "outputs": [
    {
     "data": {
      "text/html": [
       "<script type=\"text/javascript\">window.PlotlyConfig = {MathJaxConfig: 'local'};</script><script type=\"text/javascript\">if (window.MathJax) {MathJax.Hub.Config({SVG: {font: \"STIX-Web\"}});}</script><script>requirejs.config({paths: { 'plotly': ['https://cdn.plot.ly/plotly-latest.min']},});if(!window._Plotly) {require(['plotly'],function(plotly) {window._Plotly=plotly;});}</script>"
      ],
      "text/vnd.plotly.v1+html": [
       "<script type=\"text/javascript\">window.PlotlyConfig = {MathJaxConfig: 'local'};</script><script type=\"text/javascript\">if (window.MathJax) {MathJax.Hub.Config({SVG: {font: \"STIX-Web\"}});}</script><script>requirejs.config({paths: { 'plotly': ['https://cdn.plot.ly/plotly-latest.min']},});if(!window._Plotly) {require(['plotly'],function(plotly) {window._Plotly=plotly;});}</script>"
      ]
     },
     "metadata": {},
     "output_type": "display_data"
    }
   ],
   "source": [
    "import requests\n",
    "import json\n",
    "import pandas as pd\n",
    "import re\n",
    "import warnings\n",
    "warnings.filterwarnings('ignore')\n",
    "import numpy as np\n",
    "import networkx as nx\n",
    "import matplotlib.pyplot as plt\n",
    "from networkx import *\n",
    "import random\n",
    "import plotly.plotly as py\n",
    "import plotly.graph_objs as go\n",
    "#import plotly.graph_objs.scatter as go\n",
    "from plotly.graph_objs import *\n",
    "from plotly.offline import download_plotlyjs, init_notebook_mode, plot, iplot\n",
    "init_notebook_mode(connected=True)"
   ]
  },
  {
   "cell_type": "code",
   "execution_count": 2,
   "metadata": {},
   "outputs": [],
   "source": [
    "api_key = 'f0f8be8d318201330fe3f845c883fa9f45ac014f'"
   ]
  },
  {
   "cell_type": "code",
   "execution_count": 3,
   "metadata": {},
   "outputs": [
    {
     "name": "stdout",
     "output_type": "stream",
     "text": [
      "Data was in the cache\n",
      "Data was in the cache\n",
      "Data was in the cache\n",
      "Data was in the cache\n",
      "Data was in the cache\n",
      "Data was in the cache\n",
      "Data was in the cache\n",
      "Data was in the cache\n",
      "Data was in the cache\n",
      "Data was in the cache\n",
      "Data was in the cache\n",
      "Data was in the cache\n",
      "Data was in the cache\n",
      "Data was in the cache\n",
      "Data was in the cache\n",
      "Data was in the cache\n",
      "Data was in the cache\n",
      "Data was in the cache\n",
      "Data was in the cache\n",
      "Data was in the cache\n",
      "Data was in the cache\n",
      "Data was in the cache\n",
      "Data was in the cache\n",
      "Data was in the cache\n",
      "Data was in the cache\n",
      "Data was in the cache\n",
      "Data was in the cache\n",
      "Data was in the cache\n",
      "Data was in the cache\n",
      "Data was in the cache\n",
      "Data was in the cache\n",
      "Data was in the cache\n",
      "Data was in the cache\n",
      "Data was in the cache\n",
      "Data was in the cache\n",
      "Data was in the cache\n",
      "Data was in the cache\n",
      "Data was in the cache\n",
      "Data was in the cache\n",
      "Data was in the cache\n",
      "Data was in the cache\n",
      "Data was in the cache\n",
      "Data was in the cache\n",
      "Data was in the cache\n",
      "Data was in the cache\n",
      "Data was in the cache\n",
      "Data was in the cache\n",
      "Data was in the cache\n",
      "Data was in the cache\n",
      "Data was in the cache\n",
      "Data was in the cache\n",
      "Data was in the cache\n",
      "Data was in the cache\n",
      "Data was in the cache\n",
      "Data was in the cache\n",
      "Data was in the cache\n",
      "Data was in the cache\n",
      "Data was in the cache\n",
      "Data was in the cache\n",
      "Data was in the cache\n",
      "Data was in the cache\n",
      "Data was in the cache\n",
      "Data was in the cache\n",
      "Data was in the cache\n",
      "Data was in the cache\n",
      "Data was in the cache\n",
      "Data was in the cache\n",
      "Data was in the cache\n",
      "Data was in the cache\n",
      "Data was in the cache\n",
      "Data was in the cache\n",
      "Data was in the cache\n",
      "Data was in the cache\n",
      "Data was in the cache\n",
      "Data was in the cache\n",
      "Data was in the cache\n",
      "Data was in the cache\n",
      "Data was in the cache\n",
      "Data was in the cache\n",
      "Data was in the cache\n",
      "Data was in the cache\n",
      "Data was in the cache\n",
      "Data was in the cache\n",
      "Data was in the cache\n",
      "Data was in the cache\n",
      "Data was in the cache\n",
      "Data was in the cache\n",
      "Data was in the cache\n",
      "Data was in the cache\n",
      "Data was in the cache\n",
      "Data was in the cache\n",
      "Data was in the cache\n",
      "Data was in the cache\n",
      "Data was in the cache\n",
      "Data was in the cache\n",
      "Data was in the cache\n",
      "Data was in the cache\n",
      "Data was in the cache\n",
      "Data was in the cache\n",
      "Data was in the cache\n",
      "Data was in the cache\n",
      "Data was in the cache\n",
      "Data was in the cache\n",
      "Data was in the cache\n",
      "Data was in the cache\n",
      "Data was in the cache\n",
      "Data was in the cache\n",
      "Data was in the cache\n",
      "Data was in the cache\n",
      "Data was in the cache\n",
      "Data was in the cache\n",
      "Data was in the cache\n",
      "Data was in the cache\n",
      "Data was in the cache\n",
      "Data was in the cache\n",
      "Data was in the cache\n",
      "Data was in the cache\n",
      "Data was in the cache\n",
      "Data was in the cache\n",
      "Data was in the cache\n",
      "Data was in the cache\n",
      "Data was in the cache\n",
      "Data was in the cache\n",
      "Data was in the cache\n",
      "Data was in the cache\n",
      "Data was in the cache\n",
      "Data was in the cache\n",
      "Data was in the cache\n",
      "Data was in the cache\n",
      "Data was in the cache\n",
      "Data was in the cache\n",
      "Data was in the cache\n",
      "Data was in the cache\n",
      "Data was in the cache\n",
      "Data was in the cache\n",
      "Data was in the cache\n",
      "Data was in the cache\n",
      "Data was in the cache\n",
      "Data was in the cache\n",
      "Data was in the cache\n",
      "Data was in the cache\n",
      "Data was in the cache\n",
      "Data was in the cache\n",
      "Data was in the cache\n",
      "Data was in the cache\n",
      "Data was in the cache\n",
      "Data was in the cache\n",
      "Data was in the cache\n",
      "Data was in the cache\n",
      "Data was in the cache\n",
      "Data was in the cache\n",
      "Data was in the cache\n",
      "Data was in the cache\n",
      "Data was in the cache\n",
      "Data was in the cache\n",
      "Data was in the cache\n",
      "Data was in the cache\n",
      "Data was in the cache\n",
      "Data was in the cache\n",
      "Data was in the cache\n",
      "Data was in the cache\n",
      "Data was in the cache\n",
      "Data was in the cache\n",
      "Data was in the cache\n",
      "Data was in the cache\n",
      "Data was in the cache\n",
      "Data was in the cache\n",
      "Data was in the cache\n",
      "Data was in the cache\n",
      "Data was in the cache\n",
      "Data was in the cache\n",
      "Data was in the cache\n",
      "Data was in the cache\n",
      "Data was in the cache\n",
      "Data was in the cache\n",
      "Data was in the cache\n",
      "Data was in the cache\n",
      "Data was in the cache\n",
      "Data was in the cache\n",
      "Data was in the cache\n",
      "Data was in the cache\n",
      "Data was in the cache\n",
      "Data was in the cache\n",
      "Data was in the cache\n",
      "Data was in the cache\n",
      "Data was in the cache\n",
      "Data was in the cache\n",
      "Data was in the cache\n",
      "Data was in the cache\n",
      "Data was in the cache\n",
      "Data was in the cache\n",
      "Data was in the cache\n",
      "Data was in the cache\n",
      "Data was in the cache\n",
      "Data was in the cache\n",
      "Data was in the cache\n",
      "Data was in the cache\n",
      "Data was in the cache\n",
      "Data was in the cache\n",
      "Data was in the cache\n",
      "Data was in the cache\n",
      "Data was in the cache\n",
      "Data was in the cache\n",
      "Data was in the cache\n",
      "Data was in the cache\n",
      "Data was in the cache\n",
      "Data was in the cache\n",
      "Data was in the cache\n",
      "Data was in the cache\n",
      "Data was in the cache\n",
      "Data was in the cache\n",
      "Data was in the cache\n",
      "Data was in the cache\n",
      "Data was in the cache\n",
      "Data was in the cache\n",
      "Data was in the cache\n",
      "Data was in the cache\n",
      "Data was in the cache\n",
      "Data was in the cache\n",
      "Data was in the cache\n",
      "Data was in the cache\n",
      "Data was in the cache\n",
      "Data was in the cache\n",
      "Data was in the cache\n",
      "Data was in the cache\n",
      "Data was in the cache\n",
      "Data was in the cache\n",
      "Data was in the cache\n",
      "Data was in the cache\n",
      "Data was in the cache\n",
      "Data was in the cache\n",
      "Data was in the cache\n",
      "Data was in the cache\n",
      "Data was in the cache\n",
      "Data was in the cache\n",
      "Data was in the cache\n",
      "Data was in the cache\n",
      "Data was in the cache\n",
      "Data was in the cache\n",
      "Data was in the cache\n",
      "Data was in the cache\n",
      "Data was in the cache\n",
      "Data was in the cache\n",
      "Data was in the cache\n",
      "Data was in the cache\n",
      "Data was in the cache\n",
      "Data was in the cache\n",
      "Data was in the cache\n",
      "Data was in the cache\n",
      "Data was in the cache\n",
      "Data was in the cache\n",
      "Data was in the cache\n",
      "Data was in the cache\n",
      "Data was in the cache\n",
      "Data was in the cache\n",
      "Data was in the cache\n",
      "Data was in the cache\n"
     ]
    }
   ],
   "source": [
    "import json\n",
    "import requests\n",
    "\n",
    "#setting up a caching file\n",
    "CACHE_FNAME = 'cache_texts.json'\n",
    "\n",
    "#setting up caching pattern\n",
    "try:\n",
    "    cache_file = open(CACHE_FNAME, 'r') # Try to read the data from the file\n",
    "    cache_contents = cache_file.read()  # If it's there, get it into a string\n",
    "    CACHE_DICTION = json.loads(cache_contents) # And then load it into a dictionary\n",
    "    cache_file.close() # Close the file, we're good, we got the data in a dictionary.\n",
    "except:\n",
    "    CACHE_DICTION = {}\n",
    "\n",
    "def get_items(page_number):\n",
    "    baseurl = \"https://digital.janeaddams.ramapo.edu/api/items\"\n",
    "    url_params = {\"key\" : api_key, \"item_type\" : \"Person\", \"page\" : page_number}\n",
    "    page_number_full = \"page_{}\".format(str(page_number)) #this will be the key for each page of results in the cache diction\n",
    "    if page_number_full in CACHE_DICTION:\n",
    "        print(\"Data was in the cache\")\n",
    "        return CACHE_DICTION[page_number_full]\n",
    "    else:\n",
    "        print(\"making a request for new data\")\n",
    "        response = requests.get(baseurl, url_params)\n",
    "        CACHE_DICTION[page_number_full] = response.json()  #try response.json???\n",
    "        dumped_json_cache = json.dumps(CACHE_DICTION)\n",
    "        fw = open(CACHE_FNAME,\"w\")\n",
    "        fw.write(dumped_json_cache)\n",
    "        fw.close()\n",
    "    return CACHE_DICTION[page_number_full]\n",
    "\n",
    "for i in range(1,258):\n",
    "    try:\n",
    "        get_items(i)\n",
    "    except:\n",
    "        print(\"Not working\")"
   ]
  },
  {
   "cell_type": "code",
   "execution_count": 4,
   "metadata": {},
   "outputs": [],
   "source": [
    "with open(\"cache_texts.json\") as json_file:\n",
    "    data = json.load(json_file)"
   ]
  },
  {
   "cell_type": "code",
   "execution_count": 6,
   "metadata": {},
   "outputs": [],
   "source": [
    "def pull_tags(data, tag_name):\n",
    "    name_tag_dict = {}\n",
    "    for page in data:\n",
    "        for item in data[page]:\n",
    "            tag_temp_list = []\n",
    "            for element in item[\"element_texts\"]:\n",
    "                if element[\"element\"][\"name\"] == \"Title\":\n",
    "                    name = element[\"text\"]\n",
    "            for d in item['tags']:\n",
    "                tag_temp_list.append(d['name'])\n",
    "            if tag_name in tag_temp_list:\n",
    "                name_tag_dict[name] = tag_temp_list\n",
    "    return name_tag_dict\n"
   ]
  },
  {
   "cell_type": "code",
   "execution_count": 19,
   "metadata": {},
   "outputs": [],
   "source": [
    "def geo_api_call(data, name_tag_dict):\n",
    "    new_new_dict = {}\n",
    "    geo_dict = {}\n",
    "    for page in data:\n",
    "        for item in data[page]:\n",
    "            for element in item[\"element_texts\"]:\n",
    "                if element[\"element\"][\"name\"] == \"Title\":\n",
    "                    name = element[\"text\"]\n",
    "                try:\n",
    "                    if name in name_tag_dict.keys():\n",
    "                        new_new_dict[name] = item['extended_resources']['geolocations']['id']\n",
    "                except:\n",
    "                    pass\n",
    "\n",
    "    for person in new_new_dict.keys():\n",
    "        p_id = new_new_dict[person]\n",
    "        api_url = 'https://digital.janeaddams.ramapo.edu/api/geolocations/'+str(p_id)\n",
    "        r = requests.get(api_url)\n",
    "        geo_dict[person] = r.json() \n",
    "        \n",
    "    return geo_dict"
   ]
  },
  {
   "cell_type": "code",
   "execution_count": 23,
   "metadata": {},
   "outputs": [],
   "source": [
    "def map_data(geo_dict):\n",
    "    lat_list = []\n",
    "    long_list = []\n",
    "    person_list = []\n",
    "    occupation_list = []\n",
    "\n",
    "    for person in geo_dict.keys():\n",
    "        try:\n",
    "            lat_list.append(geo_dict[person]['latitude'])\n",
    "            long_list.append(geo_dict[person]['longitude'])\n",
    "            person_list.append(person)\n",
    "                \n",
    "        except:\n",
    "            pass\n",
    "    \n",
    "    dict_to_df = {}\n",
    "    dict_to_df['person'] = person_list\n",
    "    dict_to_df['latitude'] = lat_list\n",
    "    dict_to_df['longitude'] = long_list\n",
    "    peace_geo_df = pd.DataFrame.from_dict(dict_to_df)\n",
    "    data = [ go.Scattergeo(\n",
    "        locationmode = 'ISO-3',\n",
    "        lon = peace_geo_df['longitude'],\n",
    "        lat = peace_geo_df['latitude'],\n",
    "        text = peace_geo_df['person'],\n",
    "        mode = 'markers') ]\n",
    "    return data"
   ]
  },
  {
   "cell_type": "code",
   "execution_count": 16,
   "metadata": {},
   "outputs": [],
   "source": [
    "# #pulling occupation\n",
    "# occupation_list = []\n",
    "# for page in data:\n",
    "#     for item in data[page]:\n",
    "#         for element in item[\"element_texts\"]:\n",
    "#             if element[\"element\"][\"name\"] == \"Occupation\":\n",
    "#                 occupation_list.append(element[\"text\"])"
   ]
  },
  {
   "cell_type": "code",
   "execution_count": 24,
   "metadata": {},
   "outputs": [],
   "source": [
    "def all_functions(data, tag_name):\n",
    "    step1 = pull_tags(data, tag_name)\n",
    "    step2 = geo_api_call(data, step1)\n",
    "    step3 = map_data(step2)\n",
    "    return step3"
   ]
  },
  {
   "cell_type": "code",
   "execution_count": 25,
   "metadata": {},
   "outputs": [
    {
     "data": {
      "text/html": [
       "<iframe id=\"igraph\" scrolling=\"no\" style=\"border:none;\" seamless=\"seamless\" src=\"https://plot.ly/~taylun/31.embed\" height=\"525px\" width=\"100%\"></iframe>"
      ],
      "text/plain": [
       "<plotly.tools.PlotlyDisplay object>"
      ]
     },
     "execution_count": 25,
     "metadata": {},
     "output_type": "execute_result"
    }
   ],
   "source": [
    "peace = all_functions(data, 'Peace')\n",
    "py.iplot(peace, filename = 'Peace Movement Network Map')"
   ]
  },
  {
   "cell_type": "code",
   "execution_count": 26,
   "metadata": {},
   "outputs": [
    {
     "data": {
      "text/html": [
       "<iframe id=\"igraph\" scrolling=\"no\" style=\"border:none;\" seamless=\"seamless\" src=\"https://plot.ly/~taylun/33.embed\" height=\"525px\" width=\"100%\"></iframe>"
      ],
      "text/plain": [
       "<plotly.tools.PlotlyDisplay object>"
      ]
     },
     "execution_count": 26,
     "metadata": {},
     "output_type": "execute_result"
    }
   ],
   "source": [
    "child_labor = all_functions(data, 'Child Labor')\n",
    "py.iplot(child_labor, filename = 'Child Labor Network Map')"
   ]
  },
  {
   "cell_type": "code",
   "execution_count": 27,
   "metadata": {},
   "outputs": [
    {
     "data": {
      "text/html": [
       "<iframe id=\"igraph\" scrolling=\"no\" style=\"border:none;\" seamless=\"seamless\" src=\"https://plot.ly/~taylun/35.embed\" height=\"525px\" width=\"100%\"></iframe>"
      ],
      "text/plain": [
       "<plotly.tools.PlotlyDisplay object>"
      ]
     },
     "execution_count": 27,
     "metadata": {},
     "output_type": "execute_result"
    }
   ],
   "source": [
    "child_welfare = all_functions(data, 'Child Welfare')\n",
    "py.iplot(child_welfare, filename = 'Child Welfare Network Map')"
   ]
  },
  {
   "cell_type": "code",
   "execution_count": 38,
   "metadata": {},
   "outputs": [],
   "source": [
    "# prog_party = all_functions(data, 'Progressive Party')\n",
    "# py.iplot = (prog_party)"
   ]
  },
  {
   "cell_type": "code",
   "execution_count": 29,
   "metadata": {},
   "outputs": [
    {
     "data": {
      "text/html": [
       "<iframe id=\"igraph\" scrolling=\"no\" style=\"border:none;\" seamless=\"seamless\" src=\"https://plot.ly/~taylun/37.embed\" height=\"525px\" width=\"100%\"></iframe>"
      ],
      "text/plain": [
       "<plotly.tools.PlotlyDisplay object>"
      ]
     },
     "execution_count": 29,
     "metadata": {},
     "output_type": "execute_result"
    }
   ],
   "source": [
    "settlement_mov = all_functions(data, 'Settlement Movement')\n",
    "py.iplot(settlement_mov, filename = 'Settlement Movement Map')"
   ]
  },
  {
   "cell_type": "code",
   "execution_count": 30,
   "metadata": {},
   "outputs": [
    {
     "data": {
      "text/html": [
       "<iframe id=\"igraph\" scrolling=\"no\" style=\"border:none;\" seamless=\"seamless\" src=\"https://plot.ly/~taylun/39.embed\" height=\"525px\" width=\"100%\"></iframe>"
      ],
      "text/plain": [
       "<plotly.tools.PlotlyDisplay object>"
      ]
     },
     "execution_count": 30,
     "metadata": {},
     "output_type": "execute_result"
    }
   ],
   "source": [
    "social_work = all_functions(data, 'Social Work')\n",
    "py.iplot(social_work, filename = 'Social Work Network Map')"
   ]
  },
  {
   "cell_type": "code",
   "execution_count": 31,
   "metadata": {},
   "outputs": [
    {
     "data": {
      "text/html": [
       "<iframe id=\"igraph\" scrolling=\"no\" style=\"border:none;\" seamless=\"seamless\" src=\"https://plot.ly/~taylun/41.embed\" height=\"525px\" width=\"100%\"></iframe>"
      ],
      "text/plain": [
       "<plotly.tools.PlotlyDisplay object>"
      ]
     },
     "execution_count": 31,
     "metadata": {},
     "output_type": "execute_result"
    }
   ],
   "source": [
    "socialism = all_functions(data, 'Socialism')\n",
    "py.iplot(socialism, filename = 'Socialism Network Map')"
   ]
  },
  {
   "cell_type": "code",
   "execution_count": 32,
   "metadata": {},
   "outputs": [
    {
     "data": {
      "text/html": [
       "<iframe id=\"igraph\" scrolling=\"no\" style=\"border:none;\" seamless=\"seamless\" src=\"https://plot.ly/~taylun/43.embed\" height=\"525px\" width=\"100%\"></iframe>"
      ],
      "text/plain": [
       "<plotly.tools.PlotlyDisplay object>"
      ]
     },
     "execution_count": 32,
     "metadata": {},
     "output_type": "execute_result"
    }
   ],
   "source": [
    "woman_suffrage = all_functions(data, 'Woman Suffrage')\n",
    "py.iplot(woman_suffrage, filename = 'Woman Suffrage Network Map')"
   ]
  },
  {
   "cell_type": "code",
   "execution_count": 39,
   "metadata": {},
   "outputs": [],
   "source": [
    "# womens_rights = all_functions(data, \"Women's Rights\")\n",
    "# py.iplot(womens_rights, filename = 'Womens Rights Network Map')"
   ]
  },
  {
   "cell_type": "code",
   "execution_count": 41,
   "metadata": {},
   "outputs": [],
   "source": [
    "#BELOW IS CODE FOR INITIAL SOCIAL NETWORK GRAPH CONCEPT - WILL NOT BE USED ON ACTUAL SITE"
   ]
  },
  {
   "cell_type": "code",
   "execution_count": null,
   "metadata": {},
   "outputs": [],
   "source": [
    "#finding tags mentioned more than once\n",
    "popular_tag_list = []\n",
    "for item in tag_count_d.keys():\n",
    "    if tag_count_d[item] >= 2:\n",
    "        popular_tag_list.append(item)"
   ]
  },
  {
   "cell_type": "code",
   "execution_count": null,
   "metadata": {},
   "outputs": [],
   "source": [
    "#finding frequency of tags mentioned in dataset\n",
    "tag_count_d = {}\n",
    "for item in name_tag_dict.values():\n",
    "    for tag in item:\n",
    "        if tag in tag_count_d:\n",
    "            tag_count_d[tag] += 1 \n",
    "        else:\n",
    "            tag_count_d[tag] = 1          "
   ]
  },
  {
   "cell_type": "code",
   "execution_count": null,
   "metadata": {},
   "outputs": [],
   "source": [
    "#creating newtork graph"
   ]
  },
  {
   "cell_type": "code",
   "execution_count": null,
   "metadata": {},
   "outputs": [],
   "source": [
    "G = nx.Graph()"
   ]
  },
  {
   "cell_type": "code",
   "execution_count": null,
   "metadata": {},
   "outputs": [],
   "source": [
    "pd.options.display.max_colwidth = 50000"
   ]
  },
  {
   "cell_type": "code",
   "execution_count": null,
   "metadata": {},
   "outputs": [],
   "source": [
    "new_dict = {'col_1': list(), 'col_2': list(), 'col_3': list()}\n",
    "    \n",
    "for key in name_tag_dict.keys():\n",
    "    if '?' not in key:\n",
    "        temp_tags = name_tag_dict[key]\n",
    "        for person in name_tag_dict.keys():\n",
    "            if person != key:\n",
    "                if '?' not in person:\n",
    "                    temp_tags_2 = name_tag_dict[person]\n",
    "                    for item in temp_tags_2:\n",
    "                        if item in temp_tags and item in popular_tag_list:\n",
    "                            new_dict['col_1'].append(key)\n",
    "                            new_dict['col_2'].append(person)\n",
    "                            new_dict['col_3'].append(item)\n"
   ]
  },
  {
   "cell_type": "code",
   "execution_count": null,
   "metadata": {
    "scrolled": false
   },
   "outputs": [],
   "source": [
    "new_df = pd.DataFrame.from_dict(new_dict)\n",
    "\n",
    "t = new_df.drop_duplicates()\n",
    "t"
   ]
  },
  {
   "cell_type": "code",
   "execution_count": null,
   "metadata": {},
   "outputs": [],
   "source": [
    "G = nx.from_pandas_edgelist(df = t, source = 'col_1', target = 'col_2', edge_attr = 'col_3')\n"
   ]
  },
  {
   "cell_type": "code",
   "execution_count": null,
   "metadata": {},
   "outputs": [],
   "source": [
    "new_dict = {}\n",
    "for index, row in t.iterrows():\n",
    "    \n",
    "    new_dict[(row.col_1, row.col_2)] = row.col_3"
   ]
  },
  {
   "cell_type": "code",
   "execution_count": null,
   "metadata": {},
   "outputs": [],
   "source": [
    "nx.set_edge_attributes(G, new_dict, 'Tag Relationship')\n"
   ]
  },
  {
   "cell_type": "code",
   "execution_count": null,
   "metadata": {},
   "outputs": [],
   "source": [
    "get_attr = nx.get_edge_attributes(G, 'Tag Relationship')"
   ]
  },
  {
   "cell_type": "code",
   "execution_count": null,
   "metadata": {},
   "outputs": [],
   "source": [
    "node_trace = go.Scattergl(x = [], y = [], text = [], mode = 'markers',\n",
    "                    marker = go.Marker(\n",
    "                    showscale = True,\n",
    "                    reversescale = True,\n",
    "                    color = 'maroon',\n",
    "                    size = 15,\n",
    "                    line = {'width': 2}))"
   ]
  },
  {
   "cell_type": "code",
   "execution_count": null,
   "metadata": {},
   "outputs": [],
   "source": [
    "pos = nx.spring_layout(G)\n",
    "dmin=1\n",
    "ncenter=0\n",
    "for n in pos:\n",
    "    x,y=pos[n]\n",
    "    d=(x-0.5)**2+(y-0.5)**2\n",
    "    if d<dmin:\n",
    "        ncenter=n\n",
    "        dmin=d\n",
    "\n",
    "p=nx.single_source_shortest_path_length(G,ncenter)\n",
    "\n",
    "for node in G.nodes():\n",
    "    G.node[node]['pos']= pos[node]\n",
    "\n"
   ]
  },
  {
   "cell_type": "code",
   "execution_count": null,
   "metadata": {},
   "outputs": [],
   "source": [
    "node_list = []\n",
    "for node in G.nodes():\n",
    "    x, y = G.node[node]['pos']\n",
    "    node_trace['x'] += tuple([x])\n",
    "    node_trace['y'] += tuple([y])\n",
    "    node_list.append(node)\n",
    "    node_trace['customdata'] = tuple(node_list)\n"
   ]
  },
  {
   "cell_type": "code",
   "execution_count": null,
   "metadata": {},
   "outputs": [],
   "source": [
    "   \n",
    "edge_trace = go.Scattergl(x=[], y=[], line={'width':1.0,'color': 'purple'}, mode='lines')\n"
   ]
  },
  {
   "cell_type": "code",
   "execution_count": null,
   "metadata": {},
   "outputs": [],
   "source": [
    "get_attr = nx.get_edge_attributes(G, 'Tag Relationship')\n",
    "edge_list = []\n",
    "for edge in G.edges():\n",
    "    x0, y0 = G.node[edge[0]]['pos']\n",
    "    x1, y1 = G.node[edge[1]]['pos']\n",
    "    edge_trace['x'] += tuple([x0, x1, None])\n",
    "    edge_trace['y'] += tuple([y0, y1, None])\n",
    "    edge_list.append(get_attr[edge])\n",
    "    edge_trace['customdata'] = tuple(edge_list)\n",
    "    \n",
    "        \n"
   ]
  },
  {
   "cell_type": "code",
   "execution_count": null,
   "metadata": {},
   "outputs": [],
   "source": [
    "groups = list(set(t.col_3))\n"
   ]
  },
  {
   "cell_type": "code",
   "execution_count": null,
   "metadata": {
    "scrolled": true
   },
   "outputs": [],
   "source": [
    "fig = go.Figure(data = go.Data([edge_trace, node_trace]),\n",
    "             layout = go.Layout(width=800,\n",
    "    height=900,\n",
    "    autosize=False,\n",
    "                 title = 'Jane Addams and her Chicago Network',\n",
    "                 titlefont = {'size':16},\n",
    "                 showlegend = True,\n",
    "                 margin = {'b':20, 'l':5, 'r':5, 't':40},\n",
    "                 xaxis = go.XAxis(title = 'xaxis',showgrid = False, \n",
    "                               zeroline = False, \n",
    "                               showticklabels = False),\n",
    "                 yaxis = go.YAxis(title = 'yaxis', showgrid = False, \n",
    "                               zeroline = False, \n",
    "                               showticklabels = False)))\n",
    "\n",
    "\n",
    "\n",
    "\n",
    "\n",
    "py.iplot(fig, filename = 'networkx')\n",
    "\n",
    "\n",
    "\n"
   ]
  },
  {
   "cell_type": "code",
   "execution_count": null,
   "metadata": {},
   "outputs": [],
   "source": []
  },
  {
   "cell_type": "code",
   "execution_count": null,
   "metadata": {},
   "outputs": [],
   "source": []
  },
  {
   "cell_type": "code",
   "execution_count": null,
   "metadata": {},
   "outputs": [],
   "source": []
  }
 ],
 "metadata": {
  "kernelspec": {
   "display_name": "Python 3",
   "language": "python",
   "name": "python3"
  },
  "language_info": {
   "codemirror_mode": {
    "name": "ipython",
    "version": 3
   },
   "file_extension": ".py",
   "mimetype": "text/x-python",
   "name": "python",
   "nbconvert_exporter": "python",
   "pygments_lexer": "ipython3",
   "version": "3.6.5"
  }
 },
 "nbformat": 4,
 "nbformat_minor": 2
}
